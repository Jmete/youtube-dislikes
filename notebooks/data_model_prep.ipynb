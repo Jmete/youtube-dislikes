{
 "cells": [
  {
   "cell_type": "markdown",
   "metadata": {},
   "source": [
    "# Data Prep Notebook\n",
    "This notebook is a scratchpad to test different data preparation functions that will be used in the final pipeline."
   ]
  },
  {
   "cell_type": "code",
   "execution_count": 2,
   "metadata": {},
   "outputs": [],
   "source": [
    "import pandas as pd\n",
    "import numpy as np\n",
    "from sklearn.model_selection import train_test_split\n",
    "from sklearn.metrics import accuracy_score, f1_score\n",
    "from sklearn.dummy import DummyClassifier\n",
    "from sklearn.linear_model import LogisticRegression\n",
    "from sklearn.ensemble import RandomForestClassifier\n",
    "from sklearn.model_selection import cross_val_score\n",
    "from sklearn.metrics import ConfusionMatrixDisplay\n",
    "from sklearn.metrics import plot_confusion_matrix\n",
    "import matplotlib.pyplot as plt\n",
    "import lightgbm as lgb\n",
    "from sklearn.model_selection import GridSearchCV\n",
    "\n",
    "from tqdm.notebook import tqdm"
   ]
  },
  {
   "cell_type": "code",
   "execution_count": 3,
   "metadata": {},
   "outputs": [
    {
     "name": "stderr",
     "output_type": "stream",
     "text": [
      "[nltk_data] Downloading package vader_lexicon to\n",
      "[nltk_data]     /home/james/nltk_data...\n",
      "[nltk_data]   Package vader_lexicon is already up-to-date!\n"
     ]
    }
   ],
   "source": [
    "# Vader for sentiment analysis\n",
    "import nltk\n",
    "nltk.download('vader_lexicon')\n",
    "from nltk.sentiment.vader import SentimentIntensityAnalyzer"
   ]
  },
  {
   "cell_type": "code",
   "execution_count": 4,
   "metadata": {},
   "outputs": [],
   "source": [
    "mostliked=\"../data/processed/mostliked_500000.csv\"\n",
    "mostdisliked=\"../data/processed/mostdisliked_500000.csv\"\n",
    "randompct=\"../data/processed/random_percent_1.csv\"\n",
    "randompct10=r\"/run/user/1000/gvfs/smb-share:server=metebox,share=data/JAMES/datasets/youtube-meta/youtube-02-2019-dump/random_percent_10.csv\"\n",
    "randompctpoint2=\"../data/processed/random_percent_point2.csv\""
   ]
  },
  {
   "cell_type": "code",
   "execution_count": 5,
   "metadata": {},
   "outputs": [],
   "source": [
    "comments_liked_path =  \"../data/processed/comments_csv/liked_videos_comments_0.csv\"\n",
    "comments_disliked_path = \"../data/processed/comments_csv/disliked_videos_comments_0.csv\"\n",
    "comments_randompoint2_path = \"../data/processed/comments_csv/randommpoint2_comments_0.csv\""
   ]
  },
  {
   "cell_type": "code",
   "execution_count": 6,
   "metadata": {},
   "outputs": [],
   "source": [
    "pd.set_option('display.float_format', lambda x: '%.2f' % x)\n",
    "random_state = 42"
   ]
  },
  {
   "cell_type": "markdown",
   "metadata": {},
   "source": [
    "## Loading Video Data"
   ]
  },
  {
   "cell_type": "code",
   "execution_count": 7,
   "metadata": {},
   "outputs": [],
   "source": [
    "liked=pd.read_csv(mostliked,engine=\"python\")\n",
    "disliked=pd.read_csv(mostdisliked,engine=\"python\")\n",
    "randompct_df = pd.read_csv(randompct,engine=\"python\")\n",
    "randompctpoint2_df = pd.read_csv(randompctpoint2,engine=\"python\")"
   ]
  },
  {
   "cell_type": "code",
   "execution_count": 5,
   "metadata": {},
   "outputs": [
    {
     "name": "stdout",
     "output_type": "stream",
     "text": [
      "CPU times: user 8min 18s, sys: 46.6 s, total: 9min 5s\n",
      "Wall time: 10min 4s\n"
     ]
    }
   ],
   "source": [
    "%%time\n",
    "randompct_df_10 = pd.read_csv(randompct10,engine=\"python\")"
   ]
  },
  {
   "cell_type": "code",
   "execution_count": 17,
   "metadata": {},
   "outputs": [],
   "source": [
    "# Testing smaller randompct_df by sampling a smaller fraction\n",
    "randompct_df = randompct_df.sample(frac=0.5).reset_index(drop=True)"
   ]
  },
  {
   "cell_type": "markdown",
   "metadata": {},
   "source": [
    "### Preparing dataframe for processing"
   ]
  },
  {
   "cell_type": "code",
   "execution_count": 18,
   "metadata": {},
   "outputs": [],
   "source": [
    "# Liked, disliked, and random\n",
    "combined_df = pd.concat([liked,disliked,randompct_df])\n",
    "\n",
    "# Exclude randompct\n",
    "# combined_df = pd.concat([liked,disliked])"
   ]
  },
  {
   "cell_type": "code",
   "execution_count": 19,
   "metadata": {},
   "outputs": [],
   "source": [
    "# Shuffle DF\n",
    "combined_df = combined_df.sample(frac=1).reset_index(drop=True)"
   ]
  },
  {
   "cell_type": "markdown",
   "metadata": {},
   "source": [
    "## Loading Comments"
   ]
  },
  {
   "cell_type": "code",
   "execution_count": 20,
   "metadata": {},
   "outputs": [],
   "source": [
    "# Load comment dataframes\n",
    "comments_liked_df = pd.read_csv(comments_liked_path,lineterminator='\\n')\n",
    "comments_disliked_df = pd.read_csv(comments_disliked_path,lineterminator='\\n')"
   ]
  },
  {
   "cell_type": "code",
   "execution_count": 21,
   "metadata": {},
   "outputs": [],
   "source": [
    "# Concat dataframes together\n",
    "comments_all_df=pd.concat([comments_liked_df,comments_disliked_df])"
   ]
  },
  {
   "cell_type": "code",
   "execution_count": 55,
   "metadata": {},
   "outputs": [
    {
     "data": {
      "text/html": [
       "<div>\n",
       "<style scoped>\n",
       "    .dataframe tbody tr th:only-of-type {\n",
       "        vertical-align: middle;\n",
       "    }\n",
       "\n",
       "    .dataframe tbody tr th {\n",
       "        vertical-align: top;\n",
       "    }\n",
       "\n",
       "    .dataframe thead th {\n",
       "        text-align: right;\n",
       "    }\n",
       "</style>\n",
       "<table border=\"1\" class=\"dataframe\">\n",
       "  <thead>\n",
       "    <tr style=\"text-align: right;\">\n",
       "      <th></th>\n",
       "      <th>cid</th>\n",
       "      <th>text</th>\n",
       "      <th>time</th>\n",
       "      <th>author</th>\n",
       "      <th>channel</th>\n",
       "      <th>votes</th>\n",
       "      <th>heart</th>\n",
       "      <th>video_id</th>\n",
       "      <th>text_cleaned</th>\n",
       "      <th>language</th>\n",
       "      <th>photo</th>\n",
       "    </tr>\n",
       "  </thead>\n",
       "  <tbody>\n",
       "  </tbody>\n",
       "</table>\n",
       "</div>"
      ],
      "text/plain": [
       "Empty DataFrame\n",
       "Columns: [cid, text, time, author, channel, votes, heart, video_id, text_cleaned, language, photo]\n",
       "Index: []"
      ]
     },
     "execution_count": 55,
     "metadata": {},
     "output_type": "execute_result"
    }
   ],
   "source": [
    "# Checking for corrupted video_id if they are longer than 11 characters which is the standard length\n",
    "comments_all_df[ comments_all_df[\"video_id\"].str.len() > 11 ].head(3)"
   ]
  },
  {
   "cell_type": "markdown",
   "metadata": {},
   "source": [
    "# Preparing Data for Model"
   ]
  },
  {
   "cell_type": "code",
   "execution_count": 22,
   "metadata": {},
   "outputs": [],
   "source": [
    "# Based on what we can get at inference time from the Youtube API or scraping\n",
    "X_cols = [\n",
    "    \"duration\",\n",
    "    \"age_limit\",\n",
    "    \"view_count\",\n",
    "    \"like_count\",\n",
    "    \"view_like_ratio\",\n",
    "    \"is_comments_enabled\",\n",
    "    \"is_live_content\",\n",
    "    \"cat_codes\",\n",
    "    \"desc_neu\",\n",
    "    \"desc_neg\",\n",
    "    \"desc_pos\",\n",
    "    \"desc_compound\",\n",
    "    \"comment_neu\",\n",
    "    \"comment_neg\",\n",
    "    \"comment_pos\",\n",
    "    \"comment_compound\",\n",
    "    \"votes\"\n",
    "]\n",
    "\n",
    "y_col = \"ld_score_ohe\"\n",
    "\n",
    "# Category codes from the Youtube API\n",
    "cat_code_dict = {1: 'Film & Animation',\n",
    " 2: 'Autos & Vehicles',\n",
    " 10: 'Music',\n",
    " 15: 'Pets & Animals',\n",
    " 17: 'Sports',\n",
    " 18: 'Short Movies',\n",
    " 19: 'Travel & Events',\n",
    " 20: 'Gaming',\n",
    " 21: 'Videoblogging',\n",
    " 22: 'People & Blogs',\n",
    " 23: 'Comedy',\n",
    " 24: 'Entertainment',\n",
    " 25: 'News & Politics',\n",
    " 26: 'Howto & Style',\n",
    " 27: 'Education',\n",
    " 28: 'Science & Technology',\n",
    " 29: 'Nonprofits & Activism',\n",
    " 30: 'Movies',\n",
    " 31: 'Anime/Animation',\n",
    " 32: 'Action/Adventure',\n",
    " 33: 'Classics',\n",
    " 34: 'Comedy',\n",
    " 35: 'Documentary',\n",
    " 36: 'Drama',\n",
    " 37: 'Family',\n",
    " 38: 'Foreign',\n",
    " 39: 'Horror',\n",
    " 40: 'Sci-Fi/Fantasy',\n",
    " 41: 'Thriller',\n",
    " 42: 'Shorts',\n",
    " 43: 'Shows',\n",
    " 44: 'Trailers'}\n",
    "\n",
    "inv_cat_code_dict = {v: k for k, v in cat_code_dict.items()}"
   ]
  },
  {
   "cell_type": "code",
   "execution_count": 23,
   "metadata": {},
   "outputs": [],
   "source": [
    "def find_english(df,only_eng=True):\n",
    "    \"\"\"\n",
    "    Takes in a dataframe, performs vader sentiment analysis on it and outputs sentiment, and filters for english only.\n",
    "    \"\"\"\n",
    "    df['desc_text'] = df['desc_text'].str.lower()                                                 #Remove capitalization                                            \n",
    "    df['desc_text'] = df['desc_text'].str.replace('[^\\w\\s]','')                                   #Removes extra whitespaces\n",
    "    df['desc_text'] = df['desc_text'].str.replace('@[A-Za-z0-9]+', '')                            #Removes any tags using @\n",
    "    df['desc_text'] = df['desc_text'].str.replace('\\n', '')                                       #Remove newline \n",
    "\n",
    "    data=pd.DataFrame((df.desc_text)).astype(str)\n",
    "    data['scores']=data['desc_text'].apply(SentimentIntensityAnalyzer().polarity_scores)          #Apply Vader Sentiment Analysis\n",
    "\n",
    "    data['desc_neu']=data['scores'].apply(lambda score_dict: score_dict['neu'])                        #Extract Neutral Values from dictionary\n",
    "    data['desc_neg']=data['scores'].apply(lambda score_dict: score_dict['neg'])                        #Extract Negative Values from dictionary\n",
    "    data['desc_pos']=data['scores'].apply(lambda score_dict: score_dict['pos'])                        #Extract Positive Values from dictionary\n",
    "    data['desc_compound']=data['scores'].apply(lambda score_dict: score_dict['compound'])              #Extract Compound Values from dictionary\n",
    "\n",
    "    combined_data=pd.concat([df,data], axis=1).reindex(df.index)                    #Add values back to original dataframe\n",
    "    if only_eng:\n",
    "        eng_data= combined_data[combined_data['desc_neu'] != 1]                              #Filter out df values with a neu score of 1 (indicate foreign desc)\n",
    "        return eng_data\n",
    "    else:\n",
    "        return combined_data\n",
    "    \n",
    "    \n",
    "def clean_comments(df):\n",
    "    \"\"\"\n",
    "    Takes in comment dataframe and cleans necessary columns and prepares them for sentiment analysis.\n",
    "    \"\"\"\n",
    "    \n",
    "    df_clean=df[['video_id','votes','text']].copy()                                                #Select necessary columns\n",
    "    df_clean['text_cleaned'] = df_clean['text'].str.replace('[^\\w\\s]','')                    #Removes extra whitespaces\n",
    "    df_clean['text_cleaned'] = df_clean['text_cleaned'].str.replace('@[A-Za-z0-9]+', '')     #Removes any tags using @\n",
    "    df_clean['text_cleaned'] = df_clean['text_cleaned'].str.replace('\\n', '')                #Remove newline punctuation \n",
    "    df_clean['text_cleaned'] = df_clean['text_cleaned'].str.lower()                          #Removes Capitalization             \n",
    "\n",
    "    return df_clean\n",
    "\n",
    "def comment_sentiment(df_clean):\n",
    "    \"\"\"\n",
    "    Takes in cleaned comment dataframe and performs sentiment analysis on it.\n",
    "    Groups by video_id using mean and returns the dataframe.\n",
    "    \"\"\"\n",
    "    \n",
    "    #Designate Sentiment Analyzer\n",
    "    sid = SentimentIntensityAnalyzer()\n",
    "    \n",
    "    #Ensure Text is in string format\n",
    "    text = df_clean['text_cleaned']\n",
    "    text = str(text).encode('utf-8')\n",
    "    \n",
    "    #Apply Sentiment Analyzer to text data, parse out dictionary value to columns\n",
    "    df_clean['scores']=df_clean['text_cleaned'].apply(lambda text:sid.polarity_scores(str(text)))\n",
    "    df_clean['comment_neg']=df_clean['scores'].apply(lambda score_dict: score_dict['neg'])\n",
    "    df_clean['comment_neu']=df_clean['scores'].apply(lambda score_dict: score_dict['neu'])\n",
    "    df_clean['comment_pos']=df_clean['scores'].apply(lambda score_dict: score_dict['pos'])\n",
    "    df_clean['comment_compound']=df_clean['scores'].apply(lambda score_dict: score_dict['compound'])\n",
    "  \n",
    "    #Ensure values are in numeric format select necessary columns for analysis \n",
    "    df_clean[\"votes\"] = pd.to_numeric(df_clean[\"votes\"], errors='coerce')\n",
    "    df_comm=df_clean[['video_id','votes','comment_neg','comment_neu','comment_pos','comment_compound']]\n",
    "  \n",
    "    #Group dataframe by video ID taking the mean of the comment values\n",
    "    df_comments_all=df_comm.groupby(['video_id']).mean().reset_index()\n",
    "  \n",
    "    return df_comments_all\n",
    "    \n",
    "    \n",
    "def ohe_ld_score(score):\n",
    "    \"\"\"\n",
    "    Converts decimal ld_score into categorical -1,0,1\n",
    "    \"\"\"\n",
    "    if score <= 0.5:\n",
    "        return -1\n",
    "    elif score < 0.75:\n",
    "        return 0\n",
    "    else:\n",
    "        return 1\n",
    "    \n",
    "def conv_category(cat_name):\n",
    "    \"\"\"\n",
    "    Converts category string to number based on our mapping dict from the youtube api.\n",
    "    \"\"\"\n",
    "    try:\n",
    "        cat_code = inv_cat_code_dict[cat_name]\n",
    "    except:\n",
    "        cat_code = 0\n",
    "    return cat_code\n",
    "\n",
    "def prepare_data_for_model(df,only_eng=True):\n",
    "    \"\"\"\n",
    "    Takes in a dataframe and performs processing on it to prepare for model training.\n",
    "    \"\"\"\n",
    "    \n",
    "    # Select columns we are interested in and replace NaN with 0\n",
    "    df=df[['id','fetch_date','uploader','upload_date','title','desc_text','category','duration',\n",
    "                       'age_limit', 'view_count', 'like_count','dislike_count', 'average_rating', 'allow_embed', \n",
    "                       'is_crawlable','allow_sub_contrib', 'is_live_content', 'is_ads_enabled','is_comments_enabled',\n",
    "                       'view_like_ratio', 'view_dislike_ratio','like_dislike_ratio',\"dislike_like_ratio\"]].replace(np.nan, 0)\n",
    "\n",
    "    # Convert t,f to 0,1 booleans.\n",
    "    df.allow_embed=df.allow_embed.map(dict(t=1, f=0))\n",
    "    df.is_crawlable=df.is_crawlable.map(dict(t=1, f=0))\n",
    "    df.allow_sub_contrib=df.allow_sub_contrib.map(dict(t=1, f=0))\n",
    "    df.is_live_content=df.is_live_content.map(dict(t=1, f=0))\n",
    "    df.is_ads_enabled=df.is_ads_enabled.map(dict(t=1, f=0))\n",
    "    df.is_comments_enabled=df.is_comments_enabled.map(dict(t=1, f=0))\n",
    "    df.replace([np.inf, -np.inf], np.nan,inplace=True)\n",
    "\n",
    "    # Convert category column to pandas category type and then take the code to convert it to a numeric value\n",
    "    df[\"category\"] = df[\"category\"].astype('category')\n",
    "#     df[\"cat_codes\"] = df[\"category\"].cat.codes\n",
    "    df[\"cat_codes\"] = df[\"category\"].apply(conv_category)\n",
    "\n",
    "    # Create like_dislike_score\n",
    "    df[\"ld_score\"]=(df.like_count/(df.like_count + df.dislike_count))\n",
    "\n",
    "    # Convert like_dislike_score into -1,0,1 categories for negative, neutral, and positive\n",
    "    # These will be our y values for the models\n",
    "    df[\"ld_score_ohe\"] = df[\"ld_score\"].apply(ohe_ld_score)\n",
    "    \n",
    "    # Adds sentiment and filters for english\n",
    "    df = find_english(df,only_eng=only_eng)\n",
    "\n",
    "    # Replace NaN with 0s\n",
    "    df=df.replace(np.nan, 0)\n",
    "    \n",
    "    # TODO: Might need to normalize values\n",
    "    \n",
    "    # Print out the value counts\n",
    "    print(\"ld_score_ohe value counts:\")\n",
    "    print(df[\"ld_score_ohe\"].value_counts())\n",
    "    print(\"Dataframe processed\")\n",
    "    \n",
    "    return df\n",
    "\n",
    "def create_final_dataframe(comment_df,archive_df):\n",
    "    \"\"\"\n",
    "    Processes comment df and archive df into one merged dataframe.\n",
    "    \n",
    "    Returns final merged dataframe\n",
    "    \"\"\"\n",
    "    df_clean= clean_comments(comment_df)\n",
    "    df_comments_all= comment_sentiment(df_clean)\n",
    "    df_archive_all= prepare_data_for_model(archive_df,only_eng=True)\n",
    "    final_df=df_archive_all.merge(\n",
    "        df_comments_all,\n",
    "        how=\"left\",\n",
    "        left_on=\"id\",\n",
    "        right_on=\"video_id\").replace(np.nan, 0)\n",
    "\n",
    "    return final_df\n",
    "\n",
    "def create_training_test_sets(df,X_cols,y_col,random_state=None):\n",
    "    \"\"\"\n",
    "    Takes in a processed dataframe and splits it into appropriate training and test splits.\n",
    "    \"\"\"\n",
    "    X = df[X_cols]\n",
    "    y = df[y_col]\n",
    "    X_train, X_test, y_train, y_test = train_test_split(X,y,test_size=0.1,random_state=random_state)\n",
    "    print(\"Splits created\")\n",
    "    return X, y, X_train, X_test, y_train,y_test"
   ]
  },
  {
   "cell_type": "markdown",
   "metadata": {},
   "source": [
    "### Process Commments"
   ]
  },
  {
   "cell_type": "code",
   "execution_count": 76,
   "metadata": {},
   "outputs": [
    {
     "name": "stderr",
     "output_type": "stream",
     "text": [
      "/tmp/ipykernel_123148/1056963258.py:32: FutureWarning: The default value of regex will change from True to False in a future version.\n",
      "  df_clean['text_cleaned'] = df_clean['text'].str.replace('[^\\w\\s]','')                    #Removes extra whitespaces\n",
      "/tmp/ipykernel_123148/1056963258.py:33: FutureWarning: The default value of regex will change from True to False in a future version.\n",
      "  df_clean['text_cleaned'] = df_clean['text_cleaned'].str.replace('@[A-Za-z0-9]+', '')     #Removes any tags using @\n"
     ]
    }
   ],
   "source": [
    "comment_df_processed = comment_sentiment(clean_comments(comments_all_df))"
   ]
  },
  {
   "cell_type": "code",
   "execution_count": 77,
   "metadata": {},
   "outputs": [
    {
     "data": {
      "text/html": [
       "<div>\n",
       "<style scoped>\n",
       "    .dataframe tbody tr th:only-of-type {\n",
       "        vertical-align: middle;\n",
       "    }\n",
       "\n",
       "    .dataframe tbody tr th {\n",
       "        vertical-align: top;\n",
       "    }\n",
       "\n",
       "    .dataframe thead th {\n",
       "        text-align: right;\n",
       "    }\n",
       "</style>\n",
       "<table border=\"1\" class=\"dataframe\">\n",
       "  <thead>\n",
       "    <tr style=\"text-align: right;\">\n",
       "      <th></th>\n",
       "      <th>video_id</th>\n",
       "      <th>votes</th>\n",
       "      <th>comment_neg</th>\n",
       "      <th>comment_neu</th>\n",
       "      <th>comment_pos</th>\n",
       "      <th>comment_compound</th>\n",
       "    </tr>\n",
       "  </thead>\n",
       "  <tbody>\n",
       "    <tr>\n",
       "      <th>0</th>\n",
       "      <td>---7u8gCbEM</td>\n",
       "      <td>96.80</td>\n",
       "      <td>0.12</td>\n",
       "      <td>0.71</td>\n",
       "      <td>0.17</td>\n",
       "      <td>0.21</td>\n",
       "    </tr>\n",
       "    <tr>\n",
       "      <th>1</th>\n",
       "      <td>---UeOKv0bc</td>\n",
       "      <td>1.20</td>\n",
       "      <td>0.01</td>\n",
       "      <td>0.98</td>\n",
       "      <td>0.02</td>\n",
       "      <td>-0.02</td>\n",
       "    </tr>\n",
       "    <tr>\n",
       "      <th>2</th>\n",
       "      <td>---aixW4GZc</td>\n",
       "      <td>3.50</td>\n",
       "      <td>0.02</td>\n",
       "      <td>0.98</td>\n",
       "      <td>0.00</td>\n",
       "      <td>-0.06</td>\n",
       "    </tr>\n",
       "    <tr>\n",
       "      <th>3</th>\n",
       "      <td>---qlK1dgRw</td>\n",
       "      <td>0.00</td>\n",
       "      <td>0.02</td>\n",
       "      <td>0.63</td>\n",
       "      <td>0.36</td>\n",
       "      <td>0.72</td>\n",
       "    </tr>\n",
       "    <tr>\n",
       "      <th>4</th>\n",
       "      <td>---xkRuV5s0</td>\n",
       "      <td>22.60</td>\n",
       "      <td>0.01</td>\n",
       "      <td>0.70</td>\n",
       "      <td>0.29</td>\n",
       "      <td>0.48</td>\n",
       "    </tr>\n",
       "  </tbody>\n",
       "</table>\n",
       "</div>"
      ],
      "text/plain": [
       "      video_id  votes  comment_neg  comment_neu  comment_pos  comment_compound\n",
       "0  ---7u8gCbEM  96.80         0.12         0.71         0.17              0.21\n",
       "1  ---UeOKv0bc   1.20         0.01         0.98         0.02             -0.02\n",
       "2  ---aixW4GZc   3.50         0.02         0.98         0.00             -0.06\n",
       "3  ---qlK1dgRw   0.00         0.02         0.63         0.36              0.72\n",
       "4  ---xkRuV5s0  22.60         0.01         0.70         0.29              0.48"
      ]
     },
     "execution_count": 77,
     "metadata": {},
     "output_type": "execute_result"
    }
   ],
   "source": [
    "comment_df_processed.head()"
   ]
  },
  {
   "cell_type": "markdown",
   "metadata": {},
   "source": [
    "### Process Main Dataframes"
   ]
  },
  {
   "cell_type": "code",
   "execution_count": 78,
   "metadata": {},
   "outputs": [
    {
     "name": "stderr",
     "output_type": "stream",
     "text": [
      "/tmp/ipykernel_123148/1056963258.py:6: FutureWarning: The default value of regex will change from True to False in a future version.\n",
      "  df['desc_text'] = df['desc_text'].str.replace('[^\\w\\s]','')                                   #Removes extra whitespaces\n",
      "/tmp/ipykernel_123148/1056963258.py:7: FutureWarning: The default value of regex will change from True to False in a future version.\n",
      "  df['desc_text'] = df['desc_text'].str.replace('@[A-Za-z0-9]+', '')                            #Removes any tags using @\n"
     ]
    },
    {
     "ename": "KeyError",
     "evalue": "'neu'",
     "output_type": "error",
     "traceback": [
      "\u001b[0;31m---------------------------------------------------------------------------\u001b[0m",
      "\u001b[0;31mKeyError\u001b[0m                                  Traceback (most recent call last)",
      "File \u001b[0;32m~/miniconda3/envs/ydmads-modeltraining/lib/python3.10/site-packages/pandas/core/indexes/base.py:3621\u001b[0m, in \u001b[0;36mIndex.get_loc\u001b[0;34m(self, key, method, tolerance)\u001b[0m\n\u001b[1;32m   3620\u001b[0m \u001b[38;5;28;01mtry\u001b[39;00m:\n\u001b[0;32m-> 3621\u001b[0m     \u001b[38;5;28;01mreturn\u001b[39;00m \u001b[38;5;28;43mself\u001b[39;49m\u001b[38;5;241;43m.\u001b[39;49m\u001b[43m_engine\u001b[49m\u001b[38;5;241;43m.\u001b[39;49m\u001b[43mget_loc\u001b[49m\u001b[43m(\u001b[49m\u001b[43mcasted_key\u001b[49m\u001b[43m)\u001b[49m\n\u001b[1;32m   3622\u001b[0m \u001b[38;5;28;01mexcept\u001b[39;00m \u001b[38;5;167;01mKeyError\u001b[39;00m \u001b[38;5;28;01mas\u001b[39;00m err:\n",
      "File \u001b[0;32m~/miniconda3/envs/ydmads-modeltraining/lib/python3.10/site-packages/pandas/_libs/index.pyx:136\u001b[0m, in \u001b[0;36mpandas._libs.index.IndexEngine.get_loc\u001b[0;34m()\u001b[0m\n",
      "File \u001b[0;32m~/miniconda3/envs/ydmads-modeltraining/lib/python3.10/site-packages/pandas/_libs/index.pyx:160\u001b[0m, in \u001b[0;36mpandas._libs.index.IndexEngine.get_loc\u001b[0;34m()\u001b[0m\n",
      "File \u001b[0;32m~/miniconda3/envs/ydmads-modeltraining/lib/python3.10/site-packages/pandas/_libs/index.pyx:201\u001b[0m, in \u001b[0;36mpandas._libs.index.IndexEngine._get_loc_duplicates\u001b[0;34m()\u001b[0m\n",
      "File \u001b[0;32m~/miniconda3/envs/ydmads-modeltraining/lib/python3.10/site-packages/pandas/_libs/index.pyx:209\u001b[0m, in \u001b[0;36mpandas._libs.index.IndexEngine._maybe_get_bool_indexer\u001b[0;34m()\u001b[0m\n",
      "File \u001b[0;32m~/miniconda3/envs/ydmads-modeltraining/lib/python3.10/site-packages/pandas/_libs/index.pyx:107\u001b[0m, in \u001b[0;36mpandas._libs.index._unpack_bool_indexer\u001b[0;34m()\u001b[0m\n",
      "\u001b[0;31mKeyError\u001b[0m: 'neu'",
      "\nThe above exception was the direct cause of the following exception:\n",
      "\u001b[0;31mKeyError\u001b[0m                                  Traceback (most recent call last)",
      "Input \u001b[0;32mIn [78]\u001b[0m, in \u001b[0;36m<cell line: 2>\u001b[0;34m()\u001b[0m\n\u001b[1;32m      1\u001b[0m \u001b[38;5;66;03m# Create df for training - testing only the function\u001b[39;00m\n\u001b[0;32m----> 2\u001b[0m training_df \u001b[38;5;241m=\u001b[39m \u001b[43mprepare_data_for_model\u001b[49m\u001b[43m(\u001b[49m\u001b[43mcombined_df\u001b[49m\u001b[43m)\u001b[49m\n",
      "Input \u001b[0;32mIn [75]\u001b[0m, in \u001b[0;36mprepare_data_for_model\u001b[0;34m(df, only_eng)\u001b[0m\n\u001b[1;32m    120\u001b[0m df[\u001b[38;5;124m\"\u001b[39m\u001b[38;5;124mld_score_ohe\u001b[39m\u001b[38;5;124m\"\u001b[39m] \u001b[38;5;241m=\u001b[39m df[\u001b[38;5;124m\"\u001b[39m\u001b[38;5;124mld_score\u001b[39m\u001b[38;5;124m\"\u001b[39m]\u001b[38;5;241m.\u001b[39mapply(ohe_ld_score)\n\u001b[1;32m    122\u001b[0m \u001b[38;5;66;03m# Adds sentiment and filters for english\u001b[39;00m\n\u001b[0;32m--> 123\u001b[0m df \u001b[38;5;241m=\u001b[39m \u001b[43mfind_english\u001b[49m\u001b[43m(\u001b[49m\u001b[43mdf\u001b[49m\u001b[43m,\u001b[49m\u001b[43monly_eng\u001b[49m\u001b[38;5;241;43m=\u001b[39;49m\u001b[43monly_eng\u001b[49m\u001b[43m)\u001b[49m\n\u001b[1;32m    125\u001b[0m \u001b[38;5;66;03m# Replace NaN with 0s\u001b[39;00m\n\u001b[1;32m    126\u001b[0m df\u001b[38;5;241m=\u001b[39mdf\u001b[38;5;241m.\u001b[39mreplace(np\u001b[38;5;241m.\u001b[39mnan, \u001b[38;5;241m0\u001b[39m)\n",
      "Input \u001b[0;32mIn [75]\u001b[0m, in \u001b[0;36mfind_english\u001b[0;34m(df, only_eng)\u001b[0m\n\u001b[1;32m     18\u001b[0m combined_data\u001b[38;5;241m=\u001b[39mpd\u001b[38;5;241m.\u001b[39mconcat([df,data], axis\u001b[38;5;241m=\u001b[39m\u001b[38;5;241m1\u001b[39m)\u001b[38;5;241m.\u001b[39mreindex(df\u001b[38;5;241m.\u001b[39mindex)                    \u001b[38;5;66;03m#Add values back to original dataframe\u001b[39;00m\n\u001b[1;32m     19\u001b[0m \u001b[38;5;28;01mif\u001b[39;00m only_eng:\n\u001b[0;32m---> 20\u001b[0m     eng_data\u001b[38;5;241m=\u001b[39m combined_data[\u001b[43mcombined_data\u001b[49m\u001b[43m[\u001b[49m\u001b[38;5;124;43m'\u001b[39;49m\u001b[38;5;124;43mneu\u001b[39;49m\u001b[38;5;124;43m'\u001b[39;49m\u001b[43m]\u001b[49m \u001b[38;5;241m!=\u001b[39m \u001b[38;5;241m1\u001b[39m]                              \u001b[38;5;66;03m#Filter out df values with a neu score of 1 (indicate foreign desc)\u001b[39;00m\n\u001b[1;32m     21\u001b[0m     \u001b[38;5;28;01mreturn\u001b[39;00m eng_data\n\u001b[1;32m     22\u001b[0m \u001b[38;5;28;01melse\u001b[39;00m:\n",
      "File \u001b[0;32m~/miniconda3/envs/ydmads-modeltraining/lib/python3.10/site-packages/pandas/core/frame.py:3505\u001b[0m, in \u001b[0;36mDataFrame.__getitem__\u001b[0;34m(self, key)\u001b[0m\n\u001b[1;32m   3503\u001b[0m \u001b[38;5;28;01mif\u001b[39;00m \u001b[38;5;28mself\u001b[39m\u001b[38;5;241m.\u001b[39mcolumns\u001b[38;5;241m.\u001b[39mnlevels \u001b[38;5;241m>\u001b[39m \u001b[38;5;241m1\u001b[39m:\n\u001b[1;32m   3504\u001b[0m     \u001b[38;5;28;01mreturn\u001b[39;00m \u001b[38;5;28mself\u001b[39m\u001b[38;5;241m.\u001b[39m_getitem_multilevel(key)\n\u001b[0;32m-> 3505\u001b[0m indexer \u001b[38;5;241m=\u001b[39m \u001b[38;5;28;43mself\u001b[39;49m\u001b[38;5;241;43m.\u001b[39;49m\u001b[43mcolumns\u001b[49m\u001b[38;5;241;43m.\u001b[39;49m\u001b[43mget_loc\u001b[49m\u001b[43m(\u001b[49m\u001b[43mkey\u001b[49m\u001b[43m)\u001b[49m\n\u001b[1;32m   3506\u001b[0m \u001b[38;5;28;01mif\u001b[39;00m is_integer(indexer):\n\u001b[1;32m   3507\u001b[0m     indexer \u001b[38;5;241m=\u001b[39m [indexer]\n",
      "File \u001b[0;32m~/miniconda3/envs/ydmads-modeltraining/lib/python3.10/site-packages/pandas/core/indexes/base.py:3623\u001b[0m, in \u001b[0;36mIndex.get_loc\u001b[0;34m(self, key, method, tolerance)\u001b[0m\n\u001b[1;32m   3621\u001b[0m     \u001b[38;5;28;01mreturn\u001b[39;00m \u001b[38;5;28mself\u001b[39m\u001b[38;5;241m.\u001b[39m_engine\u001b[38;5;241m.\u001b[39mget_loc(casted_key)\n\u001b[1;32m   3622\u001b[0m \u001b[38;5;28;01mexcept\u001b[39;00m \u001b[38;5;167;01mKeyError\u001b[39;00m \u001b[38;5;28;01mas\u001b[39;00m err:\n\u001b[0;32m-> 3623\u001b[0m     \u001b[38;5;28;01mraise\u001b[39;00m \u001b[38;5;167;01mKeyError\u001b[39;00m(key) \u001b[38;5;28;01mfrom\u001b[39;00m \u001b[38;5;21;01merr\u001b[39;00m\n\u001b[1;32m   3624\u001b[0m \u001b[38;5;28;01mexcept\u001b[39;00m \u001b[38;5;167;01mTypeError\u001b[39;00m:\n\u001b[1;32m   3625\u001b[0m     \u001b[38;5;66;03m# If we have a listlike key, _check_indexing_error will raise\u001b[39;00m\n\u001b[1;32m   3626\u001b[0m     \u001b[38;5;66;03m#  InvalidIndexError. Otherwise we fall through and re-raise\u001b[39;00m\n\u001b[1;32m   3627\u001b[0m     \u001b[38;5;66;03m#  the TypeError.\u001b[39;00m\n\u001b[1;32m   3628\u001b[0m     \u001b[38;5;28mself\u001b[39m\u001b[38;5;241m.\u001b[39m_check_indexing_error(key)\n",
      "\u001b[0;31mKeyError\u001b[0m: 'neu'"
     ]
    }
   ],
   "source": [
    "# Create df for training - testing only the function\n",
    "training_df = prepare_data_for_model(combined_df)"
   ]
  },
  {
   "cell_type": "code",
   "execution_count": 73,
   "metadata": {},
   "outputs": [
    {
     "data": {
      "text/plain": [
       "Index(['id', 'fetch_date', 'uploader', 'upload_date', 'title', 'desc_text',\n",
       "       'category', 'duration', 'age_limit', 'view_count', 'like_count',\n",
       "       'dislike_count', 'average_rating', 'allow_embed', 'is_crawlable',\n",
       "       'allow_sub_contrib', 'is_live_content', 'is_ads_enabled',\n",
       "       'is_comments_enabled', 'view_like_ratio', 'view_dislike_ratio',\n",
       "       'like_dislike_ratio', 'dislike_like_ratio', 'cat_codes', 'ld_score',\n",
       "       'ld_score_ohe', 'desc_text', 'scores', 'neu', 'neg', 'pos', 'compound'],\n",
       "      dtype='object')"
      ]
     },
     "execution_count": 73,
     "metadata": {},
     "output_type": "execute_result"
    }
   ],
   "source": [
    "training_df.columns"
   ]
  },
  {
   "cell_type": "markdown",
   "metadata": {},
   "source": [
    "### Combine comment and archive data"
   ]
  },
  {
   "cell_type": "code",
   "execution_count": null,
   "metadata": {},
   "outputs": [],
   "source": [
    "%%time\n",
    "# First try manually\n",
    "final_df_manual=training_df.merge(\n",
    "    df_comments_all,\n",
    "    how=\"left\",\n",
    "    left_on=\"id\",\n",
    "    right_on=\"video_id\").replace(np.nan, 0)"
   ]
  },
  {
   "cell_type": "code",
   "execution_count": null,
   "metadata": {},
   "outputs": [],
   "source": [
    "final_df_manual.head()"
   ]
  },
  {
   "cell_type": "code",
   "execution_count": 24,
   "metadata": {},
   "outputs": [
    {
     "name": "stderr",
     "output_type": "stream",
     "text": [
      "/tmp/ipykernel_482015/3603251303.py:32: FutureWarning: The default value of regex will change from True to False in a future version.\n",
      "  df_clean['text_cleaned'] = df_clean['text'].str.replace('[^\\w\\s]','')                    #Removes extra whitespaces\n",
      "/tmp/ipykernel_482015/3603251303.py:33: FutureWarning: The default value of regex will change from True to False in a future version.\n",
      "  df_clean['text_cleaned'] = df_clean['text_cleaned'].str.replace('@[A-Za-z0-9]+', '')     #Removes any tags using @\n",
      "/tmp/ipykernel_482015/3603251303.py:6: FutureWarning: The default value of regex will change from True to False in a future version.\n",
      "  df['desc_text'] = df['desc_text'].str.replace('[^\\w\\s]','')                                   #Removes extra whitespaces\n",
      "/tmp/ipykernel_482015/3603251303.py:7: FutureWarning: The default value of regex will change from True to False in a future version.\n",
      "  df['desc_text'] = df['desc_text'].str.replace('@[A-Za-z0-9]+', '')                            #Removes any tags using @\n"
     ]
    },
    {
     "name": "stdout",
     "output_type": "stream",
     "text": [
      "ld_score_ohe value counts:\n",
      " 1    451213\n",
      "-1    174447\n",
      " 0     18097\n",
      "Name: ld_score_ohe, dtype: int64\n",
      "Dataframe processed\n",
      "CPU times: user 23min 32s, sys: 5.35 s, total: 23min 38s\n",
      "Wall time: 23min 38s\n"
     ]
    }
   ],
   "source": [
    "%%time\n",
    "final_training_df = create_final_dataframe(comment_df=comments_all_df,archive_df=combined_df)"
   ]
  },
  {
   "cell_type": "code",
   "execution_count": 26,
   "metadata": {},
   "outputs": [
    {
     "data": {
      "text/html": [
       "<div>\n",
       "<style scoped>\n",
       "    .dataframe tbody tr th:only-of-type {\n",
       "        vertical-align: middle;\n",
       "    }\n",
       "\n",
       "    .dataframe tbody tr th {\n",
       "        vertical-align: top;\n",
       "    }\n",
       "\n",
       "    .dataframe thead th {\n",
       "        text-align: right;\n",
       "    }\n",
       "</style>\n",
       "<table border=\"1\" class=\"dataframe\">\n",
       "  <thead>\n",
       "    <tr style=\"text-align: right;\">\n",
       "      <th></th>\n",
       "      <th>id</th>\n",
       "      <th>fetch_date</th>\n",
       "      <th>uploader</th>\n",
       "      <th>upload_date</th>\n",
       "      <th>title</th>\n",
       "      <th>desc_text</th>\n",
       "      <th>category</th>\n",
       "      <th>duration</th>\n",
       "      <th>age_limit</th>\n",
       "      <th>view_count</th>\n",
       "      <th>...</th>\n",
       "      <th>desc_neu</th>\n",
       "      <th>desc_neg</th>\n",
       "      <th>desc_pos</th>\n",
       "      <th>desc_compound</th>\n",
       "      <th>video_id</th>\n",
       "      <th>votes</th>\n",
       "      <th>comment_neg</th>\n",
       "      <th>comment_neu</th>\n",
       "      <th>comment_pos</th>\n",
       "      <th>comment_compound</th>\n",
       "    </tr>\n",
       "  </thead>\n",
       "  <tbody>\n",
       "    <tr>\n",
       "      <th>0</th>\n",
       "      <td>FyDBw6Cq6-4</td>\n",
       "      <td>2019-02-03 05:06:14</td>\n",
       "      <td>ЛюбительМира</td>\n",
       "      <td>2018-11-23</td>\n",
       "      <td>WARFACE: КЛАН ХэвиРэйн МЫ ВОШЛИ В ТОП 10 СЕРВЕ...</td>\n",
       "      <td>поддержка каналаговорящий донат от 20р заказ м...</td>\n",
       "      <td>Gaming</td>\n",
       "      <td>6852</td>\n",
       "      <td>0</td>\n",
       "      <td>3380</td>\n",
       "      <td>...</td>\n",
       "      <td>0.97</td>\n",
       "      <td>0.00</td>\n",
       "      <td>0.03</td>\n",
       "      <td>0.51</td>\n",
       "      <td>0</td>\n",
       "      <td>0.00</td>\n",
       "      <td>0.00</td>\n",
       "      <td>0.00</td>\n",
       "      <td>0.00</td>\n",
       "      <td>0.00</td>\n",
       "    </tr>\n",
       "    <tr>\n",
       "      <th>1</th>\n",
       "      <td>qtP8rpMJgt8</td>\n",
       "      <td>2019-02-03 06:28:41</td>\n",
       "      <td>Ale Zayan</td>\n",
       "      <td>2015-01-12</td>\n",
       "      <td>Niño baila loco en Woodstaco Fest 2015</td>\n",
       "      <td>el benjita disfrutando de la música del festiv...</td>\n",
       "      <td>Entertainment</td>\n",
       "      <td>129</td>\n",
       "      <td>0</td>\n",
       "      <td>1794</td>\n",
       "      <td>...</td>\n",
       "      <td>0.80</td>\n",
       "      <td>0.00</td>\n",
       "      <td>0.20</td>\n",
       "      <td>0.49</td>\n",
       "      <td>0</td>\n",
       "      <td>0.00</td>\n",
       "      <td>0.00</td>\n",
       "      <td>0.00</td>\n",
       "      <td>0.00</td>\n",
       "      <td>0.00</td>\n",
       "    </tr>\n",
       "    <tr>\n",
       "      <th>2</th>\n",
       "      <td>9Yf2CnUpA8M</td>\n",
       "      <td>2019-02-03 01:24:58</td>\n",
       "      <td>ukissrocket</td>\n",
       "      <td>2010-08-27</td>\n",
       "      <td>[Ep 1] You Know U-Kiss 3/3 (en)</td>\n",
       "      <td>rocketboxx presentsback by popular demand is t...</td>\n",
       "      <td>Entertainment</td>\n",
       "      <td>87</td>\n",
       "      <td>0</td>\n",
       "      <td>53708</td>\n",
       "      <td>...</td>\n",
       "      <td>0.73</td>\n",
       "      <td>0.02</td>\n",
       "      <td>0.25</td>\n",
       "      <td>0.95</td>\n",
       "      <td>9Yf2CnUpA8M</td>\n",
       "      <td>0.00</td>\n",
       "      <td>0.04</td>\n",
       "      <td>0.70</td>\n",
       "      <td>0.26</td>\n",
       "      <td>0.48</td>\n",
       "    </tr>\n",
       "    <tr>\n",
       "      <th>3</th>\n",
       "      <td>5MP8mhSHsd0</td>\n",
       "      <td>2019-02-03 02:29:58</td>\n",
       "      <td>São Paulo FC</td>\n",
       "      <td>2018-10-23</td>\n",
       "      <td>CONTRATO RENOVADO: FALA, LUAN | SPFCTV</td>\n",
       "      <td>o são paulo acertou nesta terçafeira 23102018 ...</td>\n",
       "      <td>Sports</td>\n",
       "      <td>160</td>\n",
       "      <td>0</td>\n",
       "      <td>17665</td>\n",
       "      <td>...</td>\n",
       "      <td>0.95</td>\n",
       "      <td>0.04</td>\n",
       "      <td>0.00</td>\n",
       "      <td>-0.30</td>\n",
       "      <td>5MP8mhSHsd0</td>\n",
       "      <td>18.40</td>\n",
       "      <td>0.02</td>\n",
       "      <td>0.98</td>\n",
       "      <td>0.00</td>\n",
       "      <td>-0.06</td>\n",
       "    </tr>\n",
       "    <tr>\n",
       "      <th>4</th>\n",
       "      <td>0kZyJexI-Ho</td>\n",
       "      <td>2019-02-03 12:49:02</td>\n",
       "      <td>GodSaw</td>\n",
       "      <td>2010-07-02</td>\n",
       "      <td>Tales of a noob (Gears of War 2 Part 5)</td>\n",
       "      <td>the purpose of this is to give different and h...</td>\n",
       "      <td>Gaming</td>\n",
       "      <td>646</td>\n",
       "      <td>0</td>\n",
       "      <td>11</td>\n",
       "      <td>...</td>\n",
       "      <td>0.74</td>\n",
       "      <td>0.08</td>\n",
       "      <td>0.17</td>\n",
       "      <td>0.46</td>\n",
       "      <td>0</td>\n",
       "      <td>0.00</td>\n",
       "      <td>0.00</td>\n",
       "      <td>0.00</td>\n",
       "      <td>0.00</td>\n",
       "      <td>0.00</td>\n",
       "    </tr>\n",
       "  </tbody>\n",
       "</table>\n",
       "<p>5 rows × 38 columns</p>\n",
       "</div>"
      ],
      "text/plain": [
       "            id           fetch_date      uploader upload_date  \\\n",
       "0  FyDBw6Cq6-4  2019-02-03 05:06:14  ЛюбительМира  2018-11-23   \n",
       "1  qtP8rpMJgt8  2019-02-03 06:28:41     Ale Zayan  2015-01-12   \n",
       "2  9Yf2CnUpA8M  2019-02-03 01:24:58   ukissrocket  2010-08-27   \n",
       "3  5MP8mhSHsd0  2019-02-03 02:29:58  São Paulo FC  2018-10-23   \n",
       "4  0kZyJexI-Ho  2019-02-03 12:49:02        GodSaw  2010-07-02   \n",
       "\n",
       "                                               title  \\\n",
       "0  WARFACE: КЛАН ХэвиРэйн МЫ ВОШЛИ В ТОП 10 СЕРВЕ...   \n",
       "1             Niño baila loco en Woodstaco Fest 2015   \n",
       "2                    [Ep 1] You Know U-Kiss 3/3 (en)   \n",
       "3             CONTRATO RENOVADO: FALA, LUAN | SPFCTV   \n",
       "4            Tales of a noob (Gears of War 2 Part 5)   \n",
       "\n",
       "                                           desc_text       category  duration  \\\n",
       "0  поддержка каналаговорящий донат от 20р заказ м...         Gaming      6852   \n",
       "1  el benjita disfrutando de la música del festiv...  Entertainment       129   \n",
       "2  rocketboxx presentsback by popular demand is t...  Entertainment        87   \n",
       "3  o são paulo acertou nesta terçafeira 23102018 ...         Sports       160   \n",
       "4  the purpose of this is to give different and h...         Gaming       646   \n",
       "\n",
       "   age_limit  view_count  ...  desc_neu  desc_neg  desc_pos  desc_compound  \\\n",
       "0          0        3380  ...      0.97      0.00      0.03           0.51   \n",
       "1          0        1794  ...      0.80      0.00      0.20           0.49   \n",
       "2          0       53708  ...      0.73      0.02      0.25           0.95   \n",
       "3          0       17665  ...      0.95      0.04      0.00          -0.30   \n",
       "4          0          11  ...      0.74      0.08      0.17           0.46   \n",
       "\n",
       "      video_id  votes  comment_neg  comment_neu  comment_pos  comment_compound  \n",
       "0            0   0.00         0.00         0.00         0.00              0.00  \n",
       "1            0   0.00         0.00         0.00         0.00              0.00  \n",
       "2  9Yf2CnUpA8M   0.00         0.04         0.70         0.26              0.48  \n",
       "3  5MP8mhSHsd0  18.40         0.02         0.98         0.00             -0.06  \n",
       "4            0   0.00         0.00         0.00         0.00              0.00  \n",
       "\n",
       "[5 rows x 38 columns]"
      ]
     },
     "execution_count": 26,
     "metadata": {},
     "output_type": "execute_result"
    }
   ],
   "source": [
    "# Take a look at the final_training_df\n",
    "final_training_df.head()"
   ]
  },
  {
   "cell_type": "code",
   "execution_count": 27,
   "metadata": {},
   "outputs": [],
   "source": [
    "final_training_df.to_pickle(\"../data/processed/training_df_small_withcomments.pkl\")"
   ]
  },
  {
   "cell_type": "markdown",
   "metadata": {},
   "source": [
    "### Pickle dataframes"
   ]
  },
  {
   "cell_type": "code",
   "execution_count": 29,
   "metadata": {},
   "outputs": [
    {
     "name": "stderr",
     "output_type": "stream",
     "text": [
      "<ipython-input-28-44ee9ad96353>:6: FutureWarning: The default value of regex will change from True to False in a future version.\n",
      "  df['desc_text'] = df['desc_text'].str.replace('[^\\w\\s]','')                                   #Removes extra whitespaces\n",
      "<ipython-input-28-44ee9ad96353>:7: FutureWarning: The default value of regex will change from True to False in a future version.\n",
      "  df['desc_text'] = df['desc_text'].str.replace('@[A-Za-z0-9]+', '')                            #Removes any tags using @\n"
     ]
    },
    {
     "name": "stdout",
     "output_type": "stream",
     "text": [
      "ld_score_ohe value counts:\n",
      " 1    586922\n",
      "-1    192134\n",
      " 0     36138\n",
      "Name: ld_score_ohe, dtype: int64\n",
      "Dataframe processed\n"
     ]
    }
   ],
   "source": [
    "# Create df for training\n",
    "training_df = prepare_data_for_model(combined_df)\n",
    "\n",
    "# Save df to pickle file for importing later for model training\n",
    "training_df.to_pickle(\"./training_df.pkl\")"
   ]
  },
  {
   "cell_type": "code",
   "execution_count": 50,
   "metadata": {},
   "outputs": [
    {
     "name": "stderr",
     "output_type": "stream",
     "text": [
      "<ipython-input-47-2751b2681ccc>:6: FutureWarning: The default value of regex will change from True to False in a future version.\n",
      "  df['desc_text'] = df['desc_text'].str.replace('[^\\w\\s]','')                                   #Removes extra whitespaces\n",
      "<ipython-input-47-2751b2681ccc>:7: FutureWarning: The default value of regex will change from True to False in a future version.\n",
      "  df['desc_text'] = df['desc_text'].str.replace('@[A-Za-z0-9]+', '')                            #Removes any tags using @\n"
     ]
    },
    {
     "name": "stdout",
     "output_type": "stream",
     "text": [
      "ld_score_ohe value counts:\n",
      " 1    1101855\n",
      "-1     611983\n",
      " 0      96476\n",
      "Name: ld_score_ohe, dtype: int64\n",
      "Dataframe processed\n"
     ]
    }
   ],
   "source": [
    "# Create df for training without removing non-english\n",
    "training_df_all = prepare_data_for_model(combined_df,only_eng=False)\n",
    "\n",
    "# Save df to pickle file for importing later for model training\n",
    "training_df_all.to_pickle(\"./training_df_all.pkl\")"
   ]
  },
  {
   "cell_type": "code",
   "execution_count": 51,
   "metadata": {},
   "outputs": [
    {
     "name": "stderr",
     "output_type": "stream",
     "text": [
      "<ipython-input-47-2751b2681ccc>:6: FutureWarning: The default value of regex will change from True to False in a future version.\n",
      "  df['desc_text'] = df['desc_text'].str.replace('[^\\w\\s]','')                                   #Removes extra whitespaces\n",
      "<ipython-input-47-2751b2681ccc>:7: FutureWarning: The default value of regex will change from True to False in a future version.\n",
      "  df['desc_text'] = df['desc_text'].str.replace('@[A-Za-z0-9]+', '')                            #Removes any tags using @\n"
     ]
    },
    {
     "name": "stdout",
     "output_type": "stream",
     "text": [
      "ld_score_ohe value counts:\n",
      " 1    120389\n",
      "-1     22215\n",
      " 0     19234\n",
      "Name: ld_score_ohe, dtype: int64\n",
      "Dataframe processed\n"
     ]
    }
   ],
   "source": [
    "# Create df for final testing\n",
    "testing_df = prepare_data_for_model(randompctpoint2_df,only_eng=False)\n",
    "\n",
    "# Save df to pickle file for importing later for model testing\n",
    "testing_df.to_pickle(\"./testing_df.pkl\")"
   ]
  },
  {
   "cell_type": "code",
   "execution_count": 7,
   "metadata": {},
   "outputs": [],
   "source": [
    "# Load dfs from pickle\n",
    "training_df = pd.read_pickle(\"./training_df.pkl\")\n",
    "training_df_all = pd.read_pickle(\"./training_df_all.pkl\")\n",
    "testing_df = pd.read_pickle(\"./testing_df.pkl\")"
   ]
  },
  {
   "cell_type": "code",
   "execution_count": 8,
   "metadata": {},
   "outputs": [
    {
     "name": "stderr",
     "output_type": "stream",
     "text": [
      "/tmp/ipykernel_76879/80028306.py:6: FutureWarning: The default value of regex will change from True to False in a future version.\n",
      "  df['desc_text'] = df['desc_text'].str.replace('[^\\w\\s]','')                                   #Removes extra whitespaces\n",
      "/tmp/ipykernel_76879/80028306.py:7: FutureWarning: The default value of regex will change from True to False in a future version.\n",
      "  df['desc_text'] = df['desc_text'].str.replace('@[A-Za-z0-9]+', '')                            #Removes any tags using @\n"
     ]
    },
    {
     "name": "stdout",
     "output_type": "stream",
     "text": [
      "ld_score_ohe value counts:\n",
      " 1    2704614\n",
      " 0     360177\n",
      "-1     358845\n",
      "Name: ld_score_ohe, dtype: int64\n",
      "Dataframe processed\n",
      "CPU times: user 1h 56s, sys: 17 s, total: 1h 1min 13s\n",
      "Wall time: 1h 2min 4s\n"
     ]
    }
   ],
   "source": [
    "%%time\n",
    "# Create big df\n",
    "training_df_big = prepare_data_for_model(randompct_df_10,only_eng=True)\n",
    "\n",
    "# Save big df to pickle file\n",
    "randompct10_pklpath=r\"/run/user/1000/gvfs/smb-share:server=metebox,share=data/JAMES/datasets/youtube-meta/youtube-02-2019-dump/randompct_df_10.pkl\"\n",
    "training_df_big.to_pickle(randompct10_pklpath)"
   ]
  },
  {
   "cell_type": "code",
   "execution_count": 9,
   "metadata": {},
   "outputs": [
    {
     "data": {
      "text/html": [
       "<div>\n",
       "<style scoped>\n",
       "    .dataframe tbody tr th:only-of-type {\n",
       "        vertical-align: middle;\n",
       "    }\n",
       "\n",
       "    .dataframe tbody tr th {\n",
       "        vertical-align: top;\n",
       "    }\n",
       "\n",
       "    .dataframe thead th {\n",
       "        text-align: right;\n",
       "    }\n",
       "</style>\n",
       "<table border=\"1\" class=\"dataframe\">\n",
       "  <thead>\n",
       "    <tr style=\"text-align: right;\">\n",
       "      <th></th>\n",
       "      <th>duration</th>\n",
       "      <th>age_limit</th>\n",
       "      <th>view_count</th>\n",
       "      <th>like_count</th>\n",
       "      <th>dislike_count</th>\n",
       "      <th>average_rating</th>\n",
       "      <th>allow_embed</th>\n",
       "      <th>is_crawlable</th>\n",
       "      <th>allow_sub_contrib</th>\n",
       "      <th>is_live_content</th>\n",
       "      <th>...</th>\n",
       "      <th>view_dislike_ratio</th>\n",
       "      <th>like_dislike_ratio</th>\n",
       "      <th>dislike_like_ratio</th>\n",
       "      <th>cat_codes</th>\n",
       "      <th>ld_score</th>\n",
       "      <th>ld_score_ohe</th>\n",
       "      <th>neu</th>\n",
       "      <th>neg</th>\n",
       "      <th>pos</th>\n",
       "      <th>compound</th>\n",
       "    </tr>\n",
       "  </thead>\n",
       "  <tbody>\n",
       "    <tr>\n",
       "      <th>count</th>\n",
       "      <td>3423636.00</td>\n",
       "      <td>3423636.00</td>\n",
       "      <td>3423636.00</td>\n",
       "      <td>3423636.00</td>\n",
       "      <td>3423636.00</td>\n",
       "      <td>3423636.00</td>\n",
       "      <td>3423636.00</td>\n",
       "      <td>3423636.00</td>\n",
       "      <td>3423636.00</td>\n",
       "      <td>3423636.00</td>\n",
       "      <td>...</td>\n",
       "      <td>3423636.00</td>\n",
       "      <td>3423636.00</td>\n",
       "      <td>3423636.00</td>\n",
       "      <td>3423636.00</td>\n",
       "      <td>3423636.00</td>\n",
       "      <td>3423636.00</td>\n",
       "      <td>3423636.00</td>\n",
       "      <td>3423636.00</td>\n",
       "      <td>3423636.00</td>\n",
       "      <td>3423636.00</td>\n",
       "    </tr>\n",
       "    <tr>\n",
       "      <th>mean</th>\n",
       "      <td>791.00</td>\n",
       "      <td>0.06</td>\n",
       "      <td>132184.84</td>\n",
       "      <td>997.55</td>\n",
       "      <td>70.95</td>\n",
       "      <td>4.26</td>\n",
       "      <td>0.98</td>\n",
       "      <td>0.99</td>\n",
       "      <td>0.00</td>\n",
       "      <td>0.04</td>\n",
       "      <td>...</td>\n",
       "      <td>2094.19</td>\n",
       "      <td>22.43</td>\n",
       "      <td>0.36</td>\n",
       "      <td>7.85</td>\n",
       "      <td>0.82</td>\n",
       "      <td>0.69</td>\n",
       "      <td>0.80</td>\n",
       "      <td>0.05</td>\n",
       "      <td>0.14</td>\n",
       "      <td>0.31</td>\n",
       "    </tr>\n",
       "    <tr>\n",
       "      <th>std</th>\n",
       "      <td>2054.78</td>\n",
       "      <td>1.03</td>\n",
       "      <td>4149619.99</td>\n",
       "      <td>19936.84</td>\n",
       "      <td>3163.24</td>\n",
       "      <td>0.92</td>\n",
       "      <td>0.13</td>\n",
       "      <td>0.09</td>\n",
       "      <td>0.00</td>\n",
       "      <td>0.19</td>\n",
       "      <td>...</td>\n",
       "      <td>11279.05</td>\n",
       "      <td>44.24</td>\n",
       "      <td>0.79</td>\n",
       "      <td>3.81</td>\n",
       "      <td>0.22</td>\n",
       "      <td>0.65</td>\n",
       "      <td>0.15</td>\n",
       "      <td>0.09</td>\n",
       "      <td>0.14</td>\n",
       "      <td>0.56</td>\n",
       "    </tr>\n",
       "    <tr>\n",
       "      <th>min</th>\n",
       "      <td>0.00</td>\n",
       "      <td>0.00</td>\n",
       "      <td>0.00</td>\n",
       "      <td>0.00</td>\n",
       "      <td>1.00</td>\n",
       "      <td>0.00</td>\n",
       "      <td>0.00</td>\n",
       "      <td>0.00</td>\n",
       "      <td>0.00</td>\n",
       "      <td>0.00</td>\n",
       "      <td>...</td>\n",
       "      <td>0.00</td>\n",
       "      <td>0.00</td>\n",
       "      <td>0.00</td>\n",
       "      <td>0.00</td>\n",
       "      <td>0.00</td>\n",
       "      <td>-1.00</td>\n",
       "      <td>0.00</td>\n",
       "      <td>0.00</td>\n",
       "      <td>0.00</td>\n",
       "      <td>-1.00</td>\n",
       "    </tr>\n",
       "    <tr>\n",
       "      <th>25%</th>\n",
       "      <td>141.00</td>\n",
       "      <td>0.00</td>\n",
       "      <td>512.00</td>\n",
       "      <td>8.00</td>\n",
       "      <td>1.00</td>\n",
       "      <td>4.07</td>\n",
       "      <td>1.00</td>\n",
       "      <td>1.00</td>\n",
       "      <td>0.00</td>\n",
       "      <td>0.00</td>\n",
       "      <td>...</td>\n",
       "      <td>231.00</td>\n",
       "      <td>3.38</td>\n",
       "      <td>0.05</td>\n",
       "      <td>5.00</td>\n",
       "      <td>0.77</td>\n",
       "      <td>1.00</td>\n",
       "      <td>0.75</td>\n",
       "      <td>0.00</td>\n",
       "      <td>0.04</td>\n",
       "      <td>-0.15</td>\n",
       "    </tr>\n",
       "    <tr>\n",
       "      <th>50%</th>\n",
       "      <td>278.00</td>\n",
       "      <td>0.00</td>\n",
       "      <td>2775.00</td>\n",
       "      <td>31.00</td>\n",
       "      <td>3.00</td>\n",
       "      <td>4.62</td>\n",
       "      <td>1.00</td>\n",
       "      <td>1.00</td>\n",
       "      <td>0.00</td>\n",
       "      <td>0.00</td>\n",
       "      <td>...</td>\n",
       "      <td>813.00</td>\n",
       "      <td>9.67</td>\n",
       "      <td>0.14</td>\n",
       "      <td>6.00</td>\n",
       "      <td>0.91</td>\n",
       "      <td>1.00</td>\n",
       "      <td>0.84</td>\n",
       "      <td>0.02</td>\n",
       "      <td>0.10</td>\n",
       "      <td>0.44</td>\n",
       "    </tr>\n",
       "    <tr>\n",
       "      <th>75%</th>\n",
       "      <td>640.00</td>\n",
       "      <td>0.00</td>\n",
       "      <td>13881.00</td>\n",
       "      <td>146.00</td>\n",
       "      <td>9.00</td>\n",
       "      <td>4.85</td>\n",
       "      <td>1.00</td>\n",
       "      <td>1.00</td>\n",
       "      <td>0.00</td>\n",
       "      <td>0.00</td>\n",
       "      <td>...</td>\n",
       "      <td>2148.00</td>\n",
       "      <td>24.92</td>\n",
       "      <td>0.39</td>\n",
       "      <td>12.00</td>\n",
       "      <td>0.96</td>\n",
       "      <td>1.00</td>\n",
       "      <td>0.91</td>\n",
       "      <td>0.07</td>\n",
       "      <td>0.19</td>\n",
       "      <td>0.80</td>\n",
       "    </tr>\n",
       "    <tr>\n",
       "      <th>max</th>\n",
       "      <td>182750.00</td>\n",
       "      <td>18.00</td>\n",
       "      <td>2736330730.00</td>\n",
       "      <td>9107134.00</td>\n",
       "      <td>4183775.00</td>\n",
       "      <td>5.00</td>\n",
       "      <td>1.00</td>\n",
       "      <td>1.00</td>\n",
       "      <td>0.00</td>\n",
       "      <td>1.00</td>\n",
       "      <td>...</td>\n",
       "      <td>6399412.00</td>\n",
       "      <td>19121.00</td>\n",
       "      <td>243.00</td>\n",
       "      <td>17.00</td>\n",
       "      <td>1.00</td>\n",
       "      <td>1.00</td>\n",
       "      <td>1.00</td>\n",
       "      <td>1.00</td>\n",
       "      <td>1.00</td>\n",
       "      <td>1.00</td>\n",
       "    </tr>\n",
       "  </tbody>\n",
       "</table>\n",
       "<p>8 rows × 23 columns</p>\n",
       "</div>"
      ],
      "text/plain": [
       "        duration  age_limit    view_count  like_count  dislike_count  \\\n",
       "count 3423636.00 3423636.00    3423636.00  3423636.00     3423636.00   \n",
       "mean      791.00       0.06     132184.84      997.55          70.95   \n",
       "std      2054.78       1.03    4149619.99    19936.84        3163.24   \n",
       "min         0.00       0.00          0.00        0.00           1.00   \n",
       "25%       141.00       0.00        512.00        8.00           1.00   \n",
       "50%       278.00       0.00       2775.00       31.00           3.00   \n",
       "75%       640.00       0.00      13881.00      146.00           9.00   \n",
       "max    182750.00      18.00 2736330730.00  9107134.00     4183775.00   \n",
       "\n",
       "       average_rating  allow_embed  is_crawlable  allow_sub_contrib  \\\n",
       "count      3423636.00   3423636.00    3423636.00         3423636.00   \n",
       "mean             4.26         0.98          0.99               0.00   \n",
       "std              0.92         0.13          0.09               0.00   \n",
       "min              0.00         0.00          0.00               0.00   \n",
       "25%              4.07         1.00          1.00               0.00   \n",
       "50%              4.62         1.00          1.00               0.00   \n",
       "75%              4.85         1.00          1.00               0.00   \n",
       "max              5.00         1.00          1.00               0.00   \n",
       "\n",
       "       is_live_content  ...  view_dislike_ratio  like_dislike_ratio  \\\n",
       "count       3423636.00  ...          3423636.00          3423636.00   \n",
       "mean              0.04  ...             2094.19               22.43   \n",
       "std               0.19  ...            11279.05               44.24   \n",
       "min               0.00  ...                0.00                0.00   \n",
       "25%               0.00  ...              231.00                3.38   \n",
       "50%               0.00  ...              813.00                9.67   \n",
       "75%               0.00  ...             2148.00               24.92   \n",
       "max               1.00  ...          6399412.00            19121.00   \n",
       "\n",
       "       dislike_like_ratio  cat_codes   ld_score  ld_score_ohe        neu  \\\n",
       "count          3423636.00 3423636.00 3423636.00    3423636.00 3423636.00   \n",
       "mean                 0.36       7.85       0.82          0.69       0.80   \n",
       "std                  0.79       3.81       0.22          0.65       0.15   \n",
       "min                  0.00       0.00       0.00         -1.00       0.00   \n",
       "25%                  0.05       5.00       0.77          1.00       0.75   \n",
       "50%                  0.14       6.00       0.91          1.00       0.84   \n",
       "75%                  0.39      12.00       0.96          1.00       0.91   \n",
       "max                243.00      17.00       1.00          1.00       1.00   \n",
       "\n",
       "             neg        pos   compound  \n",
       "count 3423636.00 3423636.00 3423636.00  \n",
       "mean        0.05       0.14       0.31  \n",
       "std         0.09       0.14       0.56  \n",
       "min         0.00       0.00      -1.00  \n",
       "25%         0.00       0.04      -0.15  \n",
       "50%         0.02       0.10       0.44  \n",
       "75%         0.07       0.19       0.80  \n",
       "max         1.00       1.00       1.00  \n",
       "\n",
       "[8 rows x 23 columns]"
      ]
     },
     "execution_count": 9,
     "metadata": {},
     "output_type": "execute_result"
    }
   ],
   "source": [
    "training_df_big.describe()"
   ]
  },
  {
   "cell_type": "code",
   "execution_count": 12,
   "metadata": {},
   "outputs": [
    {
     "name": "stderr",
     "output_type": "stream",
     "text": [
      "/tmp/ipykernel_123148/80028306.py:6: FutureWarning: The default value of regex will change from True to False in a future version.\n",
      "  df['desc_text'] = df['desc_text'].str.replace('[^\\w\\s]','')                                   #Removes extra whitespaces\n",
      "/tmp/ipykernel_123148/80028306.py:7: FutureWarning: The default value of regex will change from True to False in a future version.\n",
      "  df['desc_text'] = df['desc_text'].str.replace('@[A-Za-z0-9]+', '')                            #Removes any tags using @\n"
     ]
    },
    {
     "name": "stdout",
     "output_type": "stream",
     "text": [
      "ld_score_ohe value counts:\n",
      " 1    451234\n",
      "-1    174331\n",
      " 0     18034\n",
      "Name: ld_score_ohe, dtype: int64\n",
      "Dataframe processed\n"
     ]
    }
   ],
   "source": [
    "# Create smaller df for training\n",
    "training_df_small = prepare_data_for_model(combined_df)\n",
    "\n",
    "# Save smaller df to pickle file for importing later for model training\n",
    "training_df_small.to_pickle(\"../data/processed/training_df_small.pkl\")"
   ]
  },
  {
   "cell_type": "markdown",
   "metadata": {},
   "source": [
    "# Model Training and Testing"
   ]
  },
  {
   "cell_type": "code",
   "execution_count": 8,
   "metadata": {},
   "outputs": [],
   "source": [
    "def train_model(clf_object,model_name,X_train,y_train,X_test,y_test):\n",
    "    clf_object.fit(X_train,y_train)\n",
    "    acc, f1 = test_model_metrics(clf=clf_object,model_name=model_name)\n",
    "    return clf_object, acc, f1\n",
    "\n",
    "def test_model_metrics(clf, model_name,X_test,y_test):\n",
    "    testpreds = clf.predict(X_test)\n",
    "    acc = accuracy_score(y_test,testpreds)\n",
    "    \n",
    "    if len(y_test.unique()) > 2:\n",
    "        average = \"weighted\"\n",
    "    else:\n",
    "        average = \"binary\"\n",
    "        \n",
    "    f1 = f1_score(y_test,testpreds,average=average)\n",
    "    print(f\"{model_name} metrics:\")\n",
    "    print(f\"Accuracy Score: {acc}\")\n",
    "    print(f\"F1 score: {f1}\")\n",
    "    return acc,f1"
   ]
  },
  {
   "cell_type": "markdown",
   "metadata": {},
   "source": [
    "### First testing with a combined df of mostliked and mostdisliked comments evenly distributed 500k each."
   ]
  },
  {
   "cell_type": "code",
   "execution_count": 61,
   "metadata": {},
   "outputs": [
    {
     "name": "stdout",
     "output_type": "stream",
     "text": [
      "ld_score_ohe value counts:\n",
      "-1    500000\n",
      " 1    500000\n",
      "Name: ld_score_ohe, dtype: int64\n",
      "Dataframe processed\n",
      "Splits created\n"
     ]
    }
   ],
   "source": [
    "X, y, X_train,X_test,y_train,y_test = create_training_test_sets(\n",
    "    prepare_data_for_model(combined_df),\n",
    "    X_cols,\n",
    "    y_col,\n",
    "    random_state=random_state)"
   ]
  },
  {
   "cell_type": "code",
   "execution_count": 66,
   "metadata": {},
   "outputs": [
    {
     "name": "stdout",
     "output_type": "stream",
     "text": [
      "Dummy Classifier metrics:\n",
      "Accuracy Score: 0.49698\n",
      "F1 score: 0.49606283435853255\n"
     ]
    }
   ],
   "source": [
    "# Dummy\n",
    "train_model(DummyClassifier(strategy='stratified',random_state=random_state),\"Dummy Classifier\")"
   ]
  },
  {
   "cell_type": "code",
   "execution_count": 67,
   "metadata": {},
   "outputs": [
    {
     "name": "stdout",
     "output_type": "stream",
     "text": [
      "Logistic Regression metrics:\n",
      "Accuracy Score: 0.99391\n",
      "F1 score: 0.9938833927584995\n"
     ]
    }
   ],
   "source": [
    "# Logistic Regression\n",
    "train_model(LogisticRegression(n_jobs=-1,random_state=random_state),\"Logistic Regression\")"
   ]
  },
  {
   "cell_type": "code",
   "execution_count": 68,
   "metadata": {},
   "outputs": [
    {
     "name": "stdout",
     "output_type": "stream",
     "text": [
      "Random Forest - Default metrics:\n",
      "Accuracy Score: 0.9979\n",
      "F1 score: 0.9978975190725056\n"
     ]
    }
   ],
   "source": [
    "# Random Forest\n",
    "train_model(RandomForestClassifier(random_state=random_state),\"Random Forest - Default\")"
   ]
  },
  {
   "cell_type": "markdown",
   "metadata": {},
   "source": [
    "### Second testing the random 1 percent of the full database."
   ]
  },
  {
   "cell_type": "code",
   "execution_count": 69,
   "metadata": {},
   "outputs": [
    {
     "name": "stdout",
     "output_type": "stream",
     "text": [
      "ld_score_ohe value counts:\n",
      " 1    601855\n",
      "-1    111983\n",
      " 0     96476\n",
      "Name: ld_score_ohe, dtype: int64\n",
      "Dataframe processed\n",
      "Splits created\n"
     ]
    }
   ],
   "source": [
    "X, y, X_train,X_test,y_train,y_test = create_training_test_sets(\n",
    "    prepare_data_for_model(randompct_df),\n",
    "    X_cols,\n",
    "    y_col,\n",
    "    random_state=random_state)"
   ]
  },
  {
   "cell_type": "code",
   "execution_count": 72,
   "metadata": {},
   "outputs": [
    {
     "name": "stdout",
     "output_type": "stream",
     "text": [
      "Dummy Classifier metrics:\n",
      "Accuracy Score: 0.5850528186395498\n",
      "F1 score: 0.584358902313237\n"
     ]
    }
   ],
   "source": [
    "# Dummy\n",
    "train_model(DummyClassifier(strategy='stratified',random_state=random_state),\"Dummy Classifier\")"
   ]
  },
  {
   "cell_type": "code",
   "execution_count": 73,
   "metadata": {},
   "outputs": [
    {
     "name": "stdout",
     "output_type": "stream",
     "text": [
      "Logistic Regression metrics:\n",
      "Accuracy Score: 0.7511723763451476\n",
      "F1 score: 0.6604567632114086\n"
     ]
    }
   ],
   "source": [
    "# Logistic Regression\n",
    "train_model(LogisticRegression(n_jobs=-1,random_state=random_state),\"Logistic Regression\")"
   ]
  },
  {
   "cell_type": "code",
   "execution_count": 74,
   "metadata": {},
   "outputs": [
    {
     "name": "stdout",
     "output_type": "stream",
     "text": [
      "Random Forest - Default metrics:\n",
      "Accuracy Score: 0.851355020238918\n",
      "F1 score: 0.8349083036216294\n"
     ]
    }
   ],
   "source": [
    "# Random Forest\n",
    "train_model(RandomForestClassifier(random_state=random_state),\"Random Forest - Default\")"
   ]
  },
  {
   "cell_type": "code",
   "execution_count": 9,
   "metadata": {},
   "outputs": [],
   "source": [
    "# Random Forest - Training multiple times with different train_test_splits by removing random_state\n",
    "def train_model_loop(df,X_cols,y_col,clf_object,model_name,random_state,runs=5):\n",
    "    acc_list = []\n",
    "    f1_list = []\n",
    "    for i in tqdm(range(runs)):\n",
    "        X, y, X_train,X_test,y_train,y_test = create_training_test_sets(df,X_cols,y_col,random_state=random_state)\n",
    "        clf_fitted, acc,f1 = train_model(clf_object,model_name)\n",
    "        acc_list.append(acc)\n",
    "        f1_list.append(f1)\n",
    "    print(f\"Average accuracy over {runs} runs: {np.mean(acc_list)}\")\n",
    "    print(f\"Average f1 score over {runs} runs: {np.mean(f1_list)}\")\n",
    "    return acc_list,f1_list\n",
    "        "
   ]
  },
  {
   "cell_type": "code",
   "execution_count": 93,
   "metadata": {},
   "outputs": [
    {
     "name": "stdout",
     "output_type": "stream",
     "text": [
      "ld_score_ohe value counts:\n",
      " 1    601855\n",
      "-1    111983\n",
      " 0     96476\n",
      "Name: ld_score_ohe, dtype: int64\n",
      "Dataframe processed\n"
     ]
    },
    {
     "data": {
      "application/vnd.jupyter.widget-view+json": {
       "model_id": "dd4da562fb9144849bff5bcc801dba8b",
       "version_major": 2,
       "version_minor": 0
      },
      "text/plain": [
       "HBox(children=(HTML(value=''), FloatProgress(value=0.0, max=5.0), HTML(value='')))"
      ]
     },
     "metadata": {},
     "output_type": "display_data"
    },
    {
     "name": "stdout",
     "output_type": "stream",
     "text": [
      "Splits created\n",
      "Random Forest - Default metrics:\n",
      "Accuracy Score: 0.851355020238918\n",
      "F1 score: 0.8349083036216294\n",
      "Splits created\n",
      "Random Forest - Default metrics:\n",
      "Accuracy Score: 0.851355020238918\n",
      "F1 score: 0.8349083036216294\n",
      "Splits created\n",
      "Random Forest - Default metrics:\n",
      "Accuracy Score: 0.851355020238918\n",
      "F1 score: 0.8349083036216294\n",
      "Splits created\n",
      "Random Forest - Default metrics:\n",
      "Accuracy Score: 0.851355020238918\n",
      "F1 score: 0.8349083036216294\n",
      "Splits created\n",
      "Random Forest - Default metrics:\n",
      "Accuracy Score: 0.851355020238918\n",
      "F1 score: 0.8349083036216294\n",
      "\n",
      "Average accuracy over 5 runs: 0.851355020238918\n",
      "Average f1 score over 5 runs: 0.8349083036216294\n"
     ]
    }
   ],
   "source": [
    "rf_acc_list,rf_f1_list = train_model_loop(\n",
    "    df = randompct_df,\n",
    "    X_cols = X_cols,\n",
    "    y_col = y_col,\n",
    "    clf_object = RandomForestClassifier(random_state=42),\n",
    "    model_name = \"Random Forest - Default\",\n",
    "    random_state = None,\n",
    "    runs = 5)"
   ]
  },
  {
   "cell_type": "code",
   "execution_count": 10,
   "metadata": {},
   "outputs": [],
   "source": [
    "def cross_val_model(df,clf_object,X_cols,y_col,random_state,scoring,cv=5):\n",
    "    \"\"\"\n",
    "    Takes in a df, processes it, and then outputs a cross-validation f1 score.\n",
    "    Adapted from sklearn docs.\n",
    "    Scoring types available here: https://scikit-learn.org/stable/modules/model_evaluation.html#scoring-parameter\n",
    "    \"\"\"\n",
    "    X, y, X_train,X_test,y_train,y_test = create_training_test_sets(df,X_cols,y_col,random_state=random_state)\n",
    "    scores = cross_val_score(clf_object, X, y, cv=cv,scoring=scoring,verbose=1,n_jobs=-1)\n",
    "    print(f\"{scores.mean():0.2f} {scoring} with a standard deviation of {scores.std():0.2f}\")\n",
    "    return scores"
   ]
  },
  {
   "cell_type": "code",
   "execution_count": 105,
   "metadata": {},
   "outputs": [
    {
     "name": "stdout",
     "output_type": "stream",
     "text": [
      "ld_score_ohe value counts:\n",
      " 1    601855\n",
      "-1    111983\n",
      " 0     96476\n",
      "Name: ld_score_ohe, dtype: int64\n",
      "Dataframe processed\n",
      "Splits created\n"
     ]
    },
    {
     "name": "stderr",
     "output_type": "stream",
     "text": [
      "[Parallel(n_jobs=-1)]: Using backend LokyBackend with 8 concurrent workers.\n",
      "[Parallel(n_jobs=-1)]: Done   6 out of  10 | elapsed:  6.2min remaining:  4.1min\n",
      "[Parallel(n_jobs=-1)]: Done  10 out of  10 | elapsed:  9.3min finished\n"
     ]
    },
    {
     "name": "stdout",
     "output_type": "stream",
     "text": [
      "0.84 f1_weighted with a standard deviation of 0.00\n"
     ]
    }
   ],
   "source": [
    "cross_val_scores = cross_val_model(\n",
    "    df = randompct_df,\n",
    "    clf_object = RandomForestClassifier(random_state=random_state),\n",
    "    X_cols = X_cols,\n",
    "    y_col = y_col,\n",
    "    random_state = random_state,\n",
    "    scoring=\"f1_weighted\",\n",
    "    cv=10)"
   ]
  },
  {
   "cell_type": "code",
   "execution_count": 106,
   "metadata": {},
   "outputs": [
    {
     "name": "stdout",
     "output_type": "stream",
     "text": [
      "ld_score_ohe value counts:\n",
      " 1    601855\n",
      "-1    111983\n",
      " 0     96476\n",
      "Name: ld_score_ohe, dtype: int64\n",
      "Dataframe processed\n",
      "Splits created\n"
     ]
    },
    {
     "name": "stderr",
     "output_type": "stream",
     "text": [
      "[Parallel(n_jobs=-1)]: Using backend LokyBackend with 8 concurrent workers.\n",
      "[Parallel(n_jobs=-1)]: Done   6 out of  10 | elapsed:  6.4min remaining:  4.3min\n",
      "[Parallel(n_jobs=-1)]: Done  10 out of  10 | elapsed:  9.7min finished\n"
     ]
    },
    {
     "name": "stdout",
     "output_type": "stream",
     "text": [
      "0.69 f1_macro with a standard deviation of 0.00\n"
     ]
    }
   ],
   "source": [
    "cross_val_scores_f1_macro = cross_val_model(\n",
    "    df = randompct_df,\n",
    "    clf_object = RandomForestClassifier(random_state=random_state),\n",
    "    X_cols = X_cols,\n",
    "    y_col = y_col,\n",
    "    random_state = random_state,\n",
    "    scoring=\"f1_macro\",\n",
    "    cv=10)"
   ]
  },
  {
   "cell_type": "code",
   "execution_count": 107,
   "metadata": {},
   "outputs": [
    {
     "name": "stdout",
     "output_type": "stream",
     "text": [
      "ld_score_ohe value counts:\n",
      " 1    601855\n",
      "-1    111983\n",
      " 0     96476\n",
      "Name: ld_score_ohe, dtype: int64\n",
      "Dataframe processed\n",
      "Splits created\n"
     ]
    },
    {
     "name": "stderr",
     "output_type": "stream",
     "text": [
      "[Parallel(n_jobs=-1)]: Using backend LokyBackend with 8 concurrent workers.\n",
      "[Parallel(n_jobs=-1)]: Done   6 out of  10 | elapsed:  5.9min remaining:  3.9min\n",
      "[Parallel(n_jobs=-1)]: Done  10 out of  10 | elapsed:  9.4min finished\n"
     ]
    },
    {
     "name": "stdout",
     "output_type": "stream",
     "text": [
      "0.85 f1_micro with a standard deviation of 0.00\n"
     ]
    }
   ],
   "source": [
    "cross_val_scores_f1_micro = cross_val_model(\n",
    "    df = randompct_df,\n",
    "    clf_object = RandomForestClassifier(random_state=random_state),\n",
    "    X_cols = X_cols,\n",
    "    y_col = y_col,\n",
    "    random_state = random_state,\n",
    "    scoring=\"f1_micro\",\n",
    "    cv=10)"
   ]
  },
  {
   "cell_type": "markdown",
   "metadata": {},
   "source": [
    "#### Random Forest Confusion Matrix"
   ]
  },
  {
   "cell_type": "code",
   "execution_count": 11,
   "metadata": {},
   "outputs": [],
   "source": [
    "def confusion_matrix_model(df,clf_object,X_cols,y_col,random_state,model_name):\n",
    "    \"\"\"\n",
    "    Takes in a df, processes it, and then outputs a confusion matrix.\n",
    "    Adapted from sklearn docs: https://scikit-learn.org/stable/auto_examples/model_selection/plot_confusion_matrix.html#sphx-glr-auto-examples-model-selection-plot-confusion-matrix-py\n",
    "    Scoring types available here: https://scikit-learn.org/stable/modules/model_evaluation.html#scoring-parameter\n",
    "    \"\"\"\n",
    "    X, y, X_train,X_test,y_train,y_test = create_training_test_sets(df,X_cols,y_col,random_state=random_state)\n",
    "    clf_object.fit(X_train,y_train)\n",
    "    \n",
    "    # Adapted from sklearn docs\n",
    "    np.set_printoptions(precision=2)\n",
    "\n",
    "    # Plot non-normalized confusion matrix\n",
    "    titles_options = [\n",
    "        (f\"{model_name} Confusion matrix, without normalization\", None),\n",
    "        (f\"{model_name} Normalized confusion matrix\", \"true\"),\n",
    "    ]\n",
    "    \n",
    "    for title, normalize in titles_options:\n",
    "        disp = ConfusionMatrixDisplay.from_estimator(\n",
    "            clf_object,\n",
    "            X_test,\n",
    "            y_test,\n",
    "            cmap=plt.cm.Blues,\n",
    "            normalize=normalize,\n",
    "        )\n",
    "        disp.ax_.set_title(title)\n",
    "\n",
    "        print(title)\n",
    "        print(disp.confusion_matrix)"
   ]
  },
  {
   "cell_type": "code",
   "execution_count": 11,
   "metadata": {},
   "outputs": [
    {
     "name": "stdout",
     "output_type": "stream",
     "text": [
      "ld_score_ohe value counts:\n",
      " 1    601855\n",
      "-1    111983\n",
      " 0     96476\n",
      "Name: ld_score_ohe, dtype: int64\n",
      "Dataframe processed\n",
      "Splits created\n",
      "Random Forest Confusion matrix, without normalization\n",
      "[[ 8073  1164  1902]\n",
      " [  804  2778  6240]\n",
      " [  410  1525 58136]]\n",
      "Random Forest Normalized confusion matrix\n",
      "[[0.72 0.1  0.17]\n",
      " [0.08 0.28 0.64]\n",
      " [0.01 0.03 0.97]]\n"
     ]
    },
    {
     "data": {
      "image/png": "[encoded data removed]",
      "text/plain": [
       "<Figure size 432x288 with 2 Axes>"
      ]
     },
     "metadata": {
      "needs_background": "light"
     },
     "output_type": "display_data"
    },
    {
     "data": {
      "image/png": "[encoded data removed]",
      "text/plain": [
       "<Figure size 432x288 with 2 Axes>"
      ]
     },
     "metadata": {
      "needs_background": "light"
     },
     "output_type": "display_data"
    }
   ],
   "source": [
    "confusion_matrix_model(df=combined_df,\n",
    "                       clf_object=RandomForestClassifier(random_state=random_state,n_jobs=-1),\n",
    "                       X_cols=X_cols,\n",
    "                       y_col=y_col,\n",
    "                       random_state=random_state,\n",
    "                       model_name=\"Random Forest\")"
   ]
  },
  {
   "cell_type": "markdown",
   "metadata": {},
   "source": [
    "### Third testing the random 1 percent of the full database + the most disliked and most liked."
   ]
  },
  {
   "cell_type": "code",
   "execution_count": 35,
   "metadata": {},
   "outputs": [
    {
     "name": "stdout",
     "output_type": "stream",
     "text": [
      "Splits created\n",
      "Dummy Classifier metrics:\n",
      "Accuracy Score: 0.5756378802747792\n",
      "F1 score: 0.574762299333845\n",
      "Logistic Regression metrics:\n",
      "Accuracy Score: 0.7963444553483807\n",
      "F1 score: 0.7650423858237132\n",
      "Random Forest - Default metrics:\n",
      "Accuracy Score: 0.9154072620215898\n",
      "F1 score: 0.902851539088576\n"
     ]
    },
    {
     "data": {
      "text/plain": [
       "(0.9154072620215898, 0.902851539088576)"
      ]
     },
     "execution_count": 35,
     "metadata": {},
     "output_type": "execute_result"
    }
   ],
   "source": [
    "X, y, X_train,X_test,y_train,y_test = create_training_test_sets(\n",
    "    training_df,\n",
    "    X_cols,\n",
    "    y_col,\n",
    "    random_state=random_state)\n",
    "# Dummy\n",
    "train_model(DummyClassifier(strategy='stratified',random_state=random_state),\"Dummy Classifier\")\n",
    "# Logistic Regression\n",
    "train_model(LogisticRegression(n_jobs=-1,random_state=random_state),\"Logistic Regression\")\n",
    "# Random Forest\n",
    "train_model(RandomForestClassifier(n_jobs=-1,random_state=random_state),\"Random Forest - Default\")"
   ]
  },
  {
   "cell_type": "code",
   "execution_count": 36,
   "metadata": {},
   "outputs": [
    {
     "name": "stdout",
     "output_type": "stream",
     "text": [
      "Splits created\n",
      "Random Forest Confusion matrix, without normalization\n",
      "[[16731   269  2307]\n",
      " [ 1006   485  2102]\n",
      " [ 1109   103 57408]]\n",
      "Random Forest Normalized confusion matrix\n",
      "[[0.87 0.01 0.12]\n",
      " [0.28 0.13 0.59]\n",
      " [0.02 0.   0.98]]\n"
     ]
    },
    {
     "data": {
      "image/png": "[encoded data removed]",
      "text/plain": [
       "<Figure size 432x288 with 2 Axes>"
      ]
     },
     "metadata": {
      "needs_background": "light"
     },
     "output_type": "display_data"
    },
    {
     "data": {
      "image/png": "[encoded data removed]",
      "text/plain": [
       "<Figure size 432x288 with 2 Axes>"
      ]
     },
     "metadata": {
      "needs_background": "light"
     },
     "output_type": "display_data"
    }
   ],
   "source": [
    "confusion_matrix_model(df=training_df,\n",
    "                       clf_object=RandomForestClassifier(random_state=random_state,n_jobs=-1),\n",
    "                       X_cols=X_cols,\n",
    "                       y_col=y_col,\n",
    "                       random_state=random_state,\n",
    "                       model_name=\"Random Forest\")"
   ]
  },
  {
   "cell_type": "code",
   "execution_count": 49,
   "metadata": {},
   "outputs": [
    {
     "name": "stdout",
     "output_type": "stream",
     "text": [
      "Random Forest - Training metrics:\n",
      "Accuracy Score: 0.9154072620215898\n",
      "F1 score: 0.902851539088576\n",
      "Random Forest - Final Testing metrics:\n",
      "Accuracy Score: 0.832338511350857\n",
      "F1 score: 0.8071071574339287\n"
     ]
    }
   ],
   "source": [
    "# Training on only english data, and comparing against final test df\n",
    "\n",
    "X, y, X_train,X_test,y_train,y_test = create_training_test_sets(\n",
    "    training_df,\n",
    "    X_cols,\n",
    "    y_col,\n",
    "    random_state=random_state)\n",
    "\n",
    "rf_clf, acc, f1 = train_model(\n",
    "    clf_object = RandomForestClassifier(n_jobs=-1,random_state=random_state),\n",
    "    model_name = \"Random Forest - Training\",\n",
    "    X_train = X_train,\n",
    "    y_train = y_train,\n",
    "    X_test = X_test,\n",
    "    y_test = y_test)\n",
    "\n",
    "testacc,testf1 = test_model_metrics(\n",
    "    clf=rf_clf,\n",
    "    model_name=\"Random Forest - Final Testing\",\n",
    "    X_test=testing_df[X_cols],\n",
    "    y_test=testing_df[y_col])"
   ]
  },
  {
   "cell_type": "code",
   "execution_count": 56,
   "metadata": {},
   "outputs": [
    {
     "name": "stdout",
     "output_type": "stream",
     "text": [
      "RF Confusion Matrix - Trained on Only Eng\n",
      "[[0.84 0.04 0.12]\n",
      " [0.29 0.15 0.56]\n",
      " [0.05 0.01 0.94]]\n"
     ]
    },
    {
     "data": {
      "image/png": "[encoded data removed]",
      "text/plain": [
       "<Figure size 432x288 with 2 Axes>"
      ]
     },
     "metadata": {
      "needs_background": "light"
     },
     "output_type": "display_data"
    }
   ],
   "source": [
    "disp = ConfusionMatrixDisplay.from_estimator(\n",
    "    rf_clf,\n",
    "    testing_df[X_cols],\n",
    "    testing_df[y_col],\n",
    "    cmap=plt.cm.Blues,\n",
    "    normalize=\"true\",\n",
    ")\n",
    "disp.ax_.set_title(\"RF Confusion Matrix - Trained on Only Eng\")\n",
    "\n",
    "print(\"RF Confusion Matrix - Trained on Only Eng\")\n",
    "print(disp.confusion_matrix)"
   ]
  },
  {
   "cell_type": "code",
   "execution_count": 52,
   "metadata": {},
   "outputs": [
    {
     "name": "stdout",
     "output_type": "stream",
     "text": [
      "Splits created\n",
      "Random Forest - Training - AllData metrics:\n",
      "Accuracy Score: 0.9912904808635917\n",
      "F1 score: 0.9912014920073301\n",
      "Random Forest - Final Testing - AllData metrics:\n",
      "Accuracy Score: 0.8286125631804644\n",
      "F1 score: 0.8061229967469796\n"
     ]
    }
   ],
   "source": [
    "# Training on all data, and comparing against final test df\n",
    "\n",
    "X_all, y_all, X_train_all,X_test_all,y_train_all,y_test_all = create_training_test_sets(\n",
    "    training_df_all,\n",
    "    X_cols,\n",
    "    y_col,\n",
    "    random_state=random_state)\n",
    "\n",
    "rf_clf_all, acc, f1 = train_model(\n",
    "    clf_object = RandomForestClassifier(n_jobs=-1,random_state=random_state),\n",
    "    model_name = \"Random Forest - Training - AllData\",\n",
    "    X_train = X_train_all,\n",
    "    y_train = y_train_all,\n",
    "    X_test = X_test_all,\n",
    "    y_test = y_test_all)\n",
    "\n",
    "testacc_all,testf1_all = test_model_metrics(\n",
    "    clf=rf_clf_all,\n",
    "    model_name=\"Random Forest - Final Testing - AllData\",\n",
    "    X_test=testing_df[X_cols],\n",
    "    y_test=testing_df[y_col])"
   ]
  },
  {
   "cell_type": "code",
   "execution_count": 57,
   "metadata": {},
   "outputs": [
    {
     "name": "stdout",
     "output_type": "stream",
     "text": [
      "RF Confusion Matrix - Trained on All Rows\n",
      "[[0.84 0.04 0.12]\n",
      " [0.3  0.16 0.54]\n",
      " [0.06 0.01 0.93]]\n"
     ]
    },
    {
     "data": {
      "image/png": "[encoded data removed]",
      "text/plain": [
       "<Figure size 432x288 with 2 Axes>"
      ]
     },
     "metadata": {
      "needs_background": "light"
     },
     "output_type": "display_data"
    }
   ],
   "source": [
    "disp = ConfusionMatrixDisplay.from_estimator(\n",
    "    rf_clf_all,\n",
    "    testing_df[X_cols],\n",
    "    testing_df[y_col],\n",
    "    cmap=plt.cm.Blues,\n",
    "    normalize=\"true\",\n",
    ")\n",
    "disp.ax_.set_title(\"RF Confusion Matrix - Trained on All Rows\")\n",
    "\n",
    "print(\"RF Confusion Matrix - Trained on All Rows\")\n",
    "print(disp.confusion_matrix)"
   ]
  },
  {
   "cell_type": "code",
   "execution_count": 70,
   "metadata": {},
   "outputs": [
    {
     "data": {
      "text/plain": [
       "12"
      ]
     },
     "execution_count": 70,
     "metadata": {},
     "output_type": "execute_result"
    }
   ],
   "source": [
    "len(X_cols)"
   ]
  },
  {
   "cell_type": "code",
   "execution_count": 76,
   "metadata": {},
   "outputs": [
    {
     "data": {
      "text/html": [
       "<div>\n",
       "<style scoped>\n",
       "    .dataframe tbody tr th:only-of-type {\n",
       "        vertical-align: middle;\n",
       "    }\n",
       "\n",
       "    .dataframe tbody tr th {\n",
       "        vertical-align: top;\n",
       "    }\n",
       "\n",
       "    .dataframe thead th {\n",
       "        text-align: right;\n",
       "    }\n",
       "</style>\n",
       "<table border=\"1\" class=\"dataframe\">\n",
       "  <thead>\n",
       "    <tr style=\"text-align: right;\">\n",
       "      <th></th>\n",
       "      <th>duration</th>\n",
       "      <th>age_limit</th>\n",
       "      <th>view_count</th>\n",
       "      <th>like_count</th>\n",
       "      <th>view_like_ratio</th>\n",
       "      <th>is_comments_enabled</th>\n",
       "      <th>is_live_content</th>\n",
       "      <th>cat_codes</th>\n",
       "      <th>neu</th>\n",
       "      <th>neg</th>\n",
       "      <th>pos</th>\n",
       "      <th>compound</th>\n",
       "    </tr>\n",
       "  </thead>\n",
       "  <tbody>\n",
       "    <tr>\n",
       "      <th>0</th>\n",
       "      <td>1</td>\n",
       "      <td>1</td>\n",
       "      <td>1</td>\n",
       "      <td>1</td>\n",
       "      <td>1</td>\n",
       "      <td>1</td>\n",
       "      <td>1</td>\n",
       "      <td>1</td>\n",
       "      <td>1</td>\n",
       "      <td>1</td>\n",
       "      <td>1</td>\n",
       "      <td>1</td>\n",
       "    </tr>\n",
       "  </tbody>\n",
       "</table>\n",
       "</div>"
      ],
      "text/plain": [
       "   duration  age_limit  view_count  like_count  view_like_ratio  \\\n",
       "0         1          1           1           1                1   \n",
       "\n",
       "   is_comments_enabled  is_live_content  cat_codes  neu  neg  pos  compound  \n",
       "0                    1                1          1    1    1    1         1  "
      ]
     },
     "metadata": {},
     "output_type": "display_data"
    },
    {
     "name": "stdout",
     "output_type": "stream",
     "text": [
      "1\n",
      "[-1]\n"
     ]
    }
   ],
   "source": [
    "### Testing a manual prediction\n",
    "manual_pred_input = pd.DataFrame(np.array([1,1,1,1,1,1,1,1,1,1,1,1]).reshape(1, -1),columns=X_cols)\n",
    "display(manual_pred_input)\n",
    "print(len(manual_pred_input))\n",
    "manual_pred = rf_clf.predict(manual_pred_input)\n",
    "print(manual_pred)"
   ]
  },
  {
   "cell_type": "code",
   "execution_count": 12,
   "metadata": {},
   "outputs": [
    {
     "name": "stdout",
     "output_type": "stream",
     "text": [
      "Splits created\n"
     ]
    }
   ],
   "source": [
    "# Create training and test sets\n",
    "X_all, y_all, X_train,X_test,y_train,y_test = create_training_test_sets(\n",
    "    training_df,\n",
    "    X_cols,\n",
    "    y_col,\n",
    "    random_state=random_state)"
   ]
  },
  {
   "cell_type": "code",
   "execution_count": null,
   "metadata": {},
   "outputs": [
    {
     "name": "stdout",
     "output_type": "stream",
     "text": [
      "Fitting 10 folds for each of 48 candidates, totalling 480 fits\n"
     ]
    }
   ],
   "source": [
    "%%time\n",
    "# Grid search for Random Forest\n",
    "# Based on Kaggle tutorial: https://www.kaggle.com/code/sociopath00/random-forest-using-gridsearchcv/notebook\n",
    "\n",
    "rf_param_grid = { \n",
    "    'n_estimators': [200, 500],\n",
    "    'max_features': ['auto', 'sqrt', 'log2'],\n",
    "    'max_depth' : [8,16,32,64],\n",
    "    'criterion' :['gini', 'entropy']\n",
    "}\n",
    "\n",
    "rf_default=RandomForestClassifier(random_state=random_state)\n",
    "rf_gridcv = GridSearchCV(estimator=rf_default, param_grid=rf_param_grid, cv=10,verbose=10,n_jobs=4,scoring='f1_weighted')\n",
    "rf_gridcv.fit(X_train, y_train)\n",
    "rf_best_params = rf_gridcv.best_params_\n",
    "print(\"RF Best Params found through grid search cv are:\")\n",
    "print(rf_best_params)\n",
    "\n",
    "testacc_all,testf1_all = test_model_metrics(\n",
    "    clf=rf_gridcv,\n",
    "    model_name=\"Random Forest - Final Testing - GridSearchBest\",\n",
    "    X_test=testing_df[X_cols],\n",
    "    y_test=testing_df[y_col])\n",
    "\n",
    "plot_confusion_matrix(rf_gridcv,testing_df[X_cols],testing_df[y_col],cmap=plt.cm.Blues,normalize=\"true\")"
   ]
  },
  {
   "cell_type": "code",
   "execution_count": 18,
   "metadata": {},
   "outputs": [
    {
     "name": "stdout",
     "output_type": "stream",
     "text": [
      "Fitting 10 folds for each of 6 candidates, totalling 60 fits\n",
      "RF Best Params found through grid search cv are:\n",
      "{'max_depth': 8, 'n_estimators': 200}\n",
      "Random Forest - Final Testing - GridSearchBest metrics:\n",
      "Accuracy Score: 0.8350016683350017\n",
      "F1 score: 0.7904982268047801\n"
     ]
    },
    {
     "name": "stderr",
     "output_type": "stream",
     "text": [
      "c:\\users\\divin\\appdata\\local\\programs\\python\\python39\\lib\\site-packages\\sklearn\\utils\\deprecation.py:87: FutureWarning: Function plot_confusion_matrix is deprecated; Function `plot_confusion_matrix` is deprecated in 1.0 and will be removed in 1.2. Use one of the class methods: ConfusionMatrixDisplay.from_predictions or ConfusionMatrixDisplay.from_estimator.\n",
      "  warnings.warn(msg, category=FutureWarning)\n"
     ]
    },
    {
     "name": "stdout",
     "output_type": "stream",
     "text": [
      "Wall time: 1h 3min 16s\n"
     ]
    },
    {
     "data": {
      "text/plain": [
       "<sklearn.metrics._plot.confusion_matrix.ConfusionMatrixDisplay at 0x20fc7fa0100>"
      ]
     },
     "execution_count": 18,
     "metadata": {},
     "output_type": "execute_result"
    },
    {
     "data": {
      "image/png": "[encoded data removed]",
      "text/plain": [
       "<Figure size 432x288 with 2 Axes>"
      ]
     },
     "metadata": {
      "needs_background": "light"
     },
     "output_type": "display_data"
    }
   ],
   "source": [
    "%%time\n",
    "# Smaller gridsearch\n",
    "# Grid search for Random Forest\n",
    "# Based on Kaggle tutorial: https://www.kaggle.com/code/sociopath00/random-forest-using-gridsearchcv/notebook\n",
    "\n",
    "rf_param_grid = { \n",
    "    'n_estimators': [100, 200, 300],\n",
    "    'max_depth' : [4,8]\n",
    "}\n",
    "\n",
    "rf_default=RandomForestClassifier(random_state=random_state)\n",
    "rf_gridcv = GridSearchCV(estimator=rf_default, param_grid=rf_param_grid, cv=10,verbose=10,n_jobs=4,scoring='f1_macro')\n",
    "rf_gridcv.fit(X_train, y_train)\n",
    "rf_best_params = rf_gridcv.best_params_\n",
    "print(\"RF Best Params found through grid search cv are:\")\n",
    "print(rf_best_params)\n",
    "\n",
    "testacc_rf_gridcv,testf1_rf_gridcv = test_model_metrics(\n",
    "    clf=rf_gridcv,\n",
    "    model_name=\"Random Forest - Final Testing - GridSearchBest\",\n",
    "    X_test=testing_df[X_cols],\n",
    "    y_test=testing_df[y_col])\n",
    "\n",
    "plot_confusion_matrix(rf_gridcv,testing_df[X_cols],testing_df[y_col],cmap=plt.cm.Blues,normalize=\"true\")"
   ]
  },
  {
   "cell_type": "code",
   "execution_count": 16,
   "metadata": {},
   "outputs": [
    {
     "data": {
      "text/plain": [
       "0.7904982268047801"
      ]
     },
     "execution_count": 16,
     "metadata": {},
     "output_type": "execute_result"
    }
   ],
   "source": [
    "testf1_rf_gridcv"
   ]
  },
  {
   "cell_type": "markdown",
   "metadata": {},
   "source": [
    "#### Testing GBM"
   ]
  },
  {
   "cell_type": "code",
   "execution_count": 93,
   "metadata": {},
   "outputs": [
    {
     "name": "stdout",
     "output_type": "stream",
     "text": [
      "Splits created\n",
      "[20]\ttraining's multi_logloss: 0.256099\tvalid_0's multi_logloss: 0.254223\n",
      "[40]\ttraining's multi_logloss: 0.226399\tvalid_0's multi_logloss: 0.225188\n",
      "[60]\ttraining's multi_logloss: 0.221283\tvalid_0's multi_logloss: 0.22101\n",
      "[80]\ttraining's multi_logloss: 0.219314\tvalid_0's multi_logloss: 0.220113\n",
      "[100]\ttraining's multi_logloss: 0.224381\tvalid_0's multi_logloss: 0.231296\n"
     ]
    },
    {
     "data": {
      "text/plain": [
       "LGBMClassifier(learning_rate=0.09, max_depth=-5, random_state=42)"
      ]
     },
     "execution_count": 93,
     "metadata": {},
     "output_type": "execute_result"
    }
   ],
   "source": [
    "# Create lightGBM dataset\n",
    "X, y, X_train,X_test,y_train,y_test = create_training_test_sets(\n",
    "    training_df,\n",
    "    X_cols,\n",
    "    y_col,\n",
    "    random_state=random_state)\n",
    "\n",
    "gbm_model = lgb.LGBMClassifier(learning_rate=0.09,max_depth=-5,random_state=random_state)\n",
    "\n",
    "gbm_model.fit(X_train,y_train,eval_set=[(X_test,y_test),(X_train,y_train)],\n",
    "             verbose=20,eval_metric='logloss')"
   ]
  },
  {
   "cell_type": "code",
   "execution_count": 96,
   "metadata": {},
   "outputs": [
    {
     "name": "stdout",
     "output_type": "stream",
     "text": [
      "GBM - Final Testing metrics:\n",
      "Accuracy Score: 0.84760068710686\n",
      "F1 score: 0.8224424477806689\n"
     ]
    }
   ],
   "source": [
    "testacc_gbm,testf1_gbm = test_model_metrics(\n",
    "    clf=gbm_model,\n",
    "    model_name=\"GBM - Final Testing\",\n",
    "    X_test=testing_df[X_cols],\n",
    "    y_test=testing_df[y_col])"
   ]
  },
  {
   "cell_type": "code",
   "execution_count": 97,
   "metadata": {},
   "outputs": [
    {
     "data": {
      "text/plain": [
       "<AxesSubplot:title={'center':'Feature importance'}, xlabel='Feature importance', ylabel='Features'>"
      ]
     },
     "execution_count": 97,
     "metadata": {},
     "output_type": "execute_result"
    },
    {
     "data": {
      "image/png": "[encoded data removed]",
      "text/plain": [
       "<Figure size 432x288 with 1 Axes>"
      ]
     },
     "metadata": {
      "needs_background": "light"
     },
     "output_type": "display_data"
    }
   ],
   "source": [
    "lgb.plot_importance(gbm_model)"
   ]
  },
  {
   "cell_type": "code",
   "execution_count": 98,
   "metadata": {},
   "outputs": [
    {
     "data": {
      "text/plain": [
       "<AxesSubplot:title={'center':'Metric during training'}, xlabel='Iterations', ylabel='multi_logloss'>"
      ]
     },
     "execution_count": 98,
     "metadata": {},
     "output_type": "execute_result"
    },
    {
     "data": {
      "image/png": "[encoded data removed]",
      "text/plain": [
       "<Figure size 432x288 with 1 Axes>"
      ]
     },
     "metadata": {
      "needs_background": "light"
     },
     "output_type": "display_data"
    }
   ],
   "source": [
    "lgb.plot_metric(gbm_model)"
   ]
  },
  {
   "cell_type": "code",
   "execution_count": 102,
   "metadata": {},
   "outputs": [
    {
     "name": "stderr",
     "output_type": "stream",
     "text": [
      "c:\\users\\divin\\appdata\\local\\programs\\python\\python39\\lib\\site-packages\\sklearn\\utils\\deprecation.py:87: FutureWarning: Function plot_confusion_matrix is deprecated; Function `plot_confusion_matrix` is deprecated in 1.0 and will be removed in 1.2. Use one of the class methods: ConfusionMatrixDisplay.from_predictions or ConfusionMatrixDisplay.from_estimator.\n",
      "  warnings.warn(msg, category=FutureWarning)\n"
     ]
    },
    {
     "data": {
      "text/plain": [
       "<sklearn.metrics._plot.confusion_matrix.ConfusionMatrixDisplay at 0x177ab253610>"
      ]
     },
     "execution_count": 102,
     "metadata": {},
     "output_type": "execute_result"
    },
    {
     "data": {
      "image/png": "[encoded data removed]",
      "text/plain": [
       "<Figure size 432x288 with 2 Axes>"
      ]
     },
     "metadata": {
      "needs_background": "light"
     },
     "output_type": "display_data"
    }
   ],
   "source": [
    "plot_confusion_matrix(gbm_model,testing_df[X_cols],testing_df[y_col],cmap=plt.cm.Blues,normalize=\"true\")"
   ]
  },
  {
   "cell_type": "markdown",
   "metadata": {},
   "source": [
    "#### GridSearch LGBM"
   ]
  },
  {
   "cell_type": "code",
   "execution_count": 104,
   "metadata": {},
   "outputs": [
    {
     "name": "stdout",
     "output_type": "stream",
     "text": [
      "{'learning_rate': 0.05, 'max_depth': 20, 'min_child_samples': 15, 'num_leaves': 100, 'reg_alpha': 0.03}\n",
      "Classification of the result on 10% test of training is:\n",
      "0.9046791163404839\n",
      "Classification of the result on testing set is:\n",
      "0.8217566831732137\n"
     ]
    },
    {
     "ename": "NameError",
     "evalue": "name 'time' is not defined",
     "output_type": "error",
     "traceback": [
      "\u001b[1;31m---------------------------------------------------------------------------\u001b[0m",
      "\u001b[1;31mNameError\u001b[0m                                 Traceback (most recent call last)",
      "\u001b[1;32m<ipython-input-104-c3e789331c4d>\u001b[0m in \u001b[0;36m<module>\u001b[1;34m\u001b[0m\n\u001b[0;32m     16\u001b[0m \u001b[0mprint\u001b[0m\u001b[1;33m(\u001b[0m\u001b[0mf1_score\u001b[0m\u001b[1;33m(\u001b[0m\u001b[0mtesting_df\u001b[0m\u001b[1;33m[\u001b[0m\u001b[0my_col\u001b[0m\u001b[1;33m]\u001b[0m\u001b[1;33m,\u001b[0m \u001b[0mgbm_predicted_testingdf\u001b[0m\u001b[1;33m,\u001b[0m\u001b[0maverage\u001b[0m\u001b[1;33m=\u001b[0m\u001b[1;34m\"weighted\"\u001b[0m\u001b[1;33m)\u001b[0m\u001b[1;33m)\u001b[0m\u001b[1;33m\u001b[0m\u001b[1;33m\u001b[0m\u001b[0m\n\u001b[0;32m     17\u001b[0m \u001b[1;33m\u001b[0m\u001b[0m\n\u001b[1;32m---> 18\u001b[1;33m \u001b[0mend\u001b[0m \u001b[1;33m=\u001b[0m \u001b[0mtime\u001b[0m\u001b[1;33m.\u001b[0m\u001b[0mtime\u001b[0m\u001b[1;33m(\u001b[0m\u001b[1;33m)\u001b[0m\u001b[1;33m\u001b[0m\u001b[1;33m\u001b[0m\u001b[0m\n\u001b[0m\u001b[0;32m     19\u001b[0m \u001b[0mprint\u001b[0m\u001b[1;33m(\u001b[0m\u001b[1;34m'Execution time is:'\u001b[0m\u001b[1;33m)\u001b[0m\u001b[1;33m\u001b[0m\u001b[1;33m\u001b[0m\u001b[0m\n\u001b[0;32m     20\u001b[0m \u001b[0mprint\u001b[0m\u001b[1;33m(\u001b[0m\u001b[0mend\u001b[0m \u001b[1;33m-\u001b[0m \u001b[0mstart\u001b[0m\u001b[1;33m)\u001b[0m\u001b[1;33m\u001b[0m\u001b[1;33m\u001b[0m\u001b[0m\n",
      "\u001b[1;31mNameError\u001b[0m: name 'time' is not defined"
     ]
    }
   ],
   "source": [
    "#Define the parameters\n",
    "# From towardsdatascience tutorial: https://towardsdatascience.com/hyper-parameter-tuning-in-python-1923797f124f\n",
    "parameters = {'num_leaves':[20,40,60,80,100], 'min_child_samples':[5,10,15],'max_depth':[-1,5,10,20],\n",
    "             'learning_rate':[0.05,0.1,0.2],'reg_alpha':[0,0.01,0.03]}\n",
    "\n",
    "gbm_obj = lgb.LGBMClassifier()\n",
    "gbm_clf=GridSearchCV(gbm_obj,parameters,scoring='f1_weighted')\n",
    "gbm_clf.fit(X=X_train, y=y_train)\n",
    "print(gbm_clf.best_params_)\n",
    "gbm_predicted=gbm_clf.predict(X_test)\n",
    "print('Classification of the result on 10% test of training is:')\n",
    "print(f1_score(y_test, gbm_predicted,average=\"weighted\"))\n",
    "\n",
    "gbm_predicted_testingdf=gbm_clf.predict(testing_df[X_cols])\n",
    "print('Classification of the result on testing set is:')\n",
    "print(f1_score(testing_df[y_col], gbm_predicted_testingdf,average=\"weighted\"))\n",
    "\n",
    "end = time.time()\n",
    "print('Execution time is:')\n",
    "print(end - start)"
   ]
  },
  {
   "cell_type": "code",
   "execution_count": 105,
   "metadata": {},
   "outputs": [],
   "source": [
    "gbm_best_parms = {'learning_rate': 0.05, 'max_depth': 20, 'min_child_samples': 15, 'num_leaves': 100, 'reg_alpha': 0.03}"
   ]
  },
  {
   "cell_type": "markdown",
   "metadata": {},
   "source": [
    "### Splitting random percent 1 csv into smaller files\n",
    "This can help us do the comment scraping faster"
   ]
  },
  {
   "cell_type": "code",
   "execution_count": 92,
   "metadata": {},
   "outputs": [
    {
     "data": {
      "text/html": [
       "<div>\n",
       "<style scoped>\n",
       "    .dataframe tbody tr th:only-of-type {\n",
       "        vertical-align: middle;\n",
       "    }\n",
       "\n",
       "    .dataframe tbody tr th {\n",
       "        vertical-align: top;\n",
       "    }\n",
       "\n",
       "    .dataframe thead th {\n",
       "        text-align: right;\n",
       "    }\n",
       "</style>\n",
       "<table border=\"1\" class=\"dataframe\">\n",
       "  <thead>\n",
       "    <tr style=\"text-align: right;\">\n",
       "      <th></th>\n",
       "      <th>row_id</th>\n",
       "      <th>duration</th>\n",
       "      <th>age_limit</th>\n",
       "      <th>view_count</th>\n",
       "      <th>like_count</th>\n",
       "      <th>dislike_count</th>\n",
       "      <th>average_rating</th>\n",
       "      <th>view_like_ratio</th>\n",
       "      <th>view_dislike_ratio</th>\n",
       "      <th>like_dislike_ratio</th>\n",
       "      <th>dislike_like_ratio</th>\n",
       "    </tr>\n",
       "  </thead>\n",
       "  <tbody>\n",
       "    <tr>\n",
       "      <th>count</th>\n",
       "      <td>810314.00</td>\n",
       "      <td>810314.00</td>\n",
       "      <td>810314.00</td>\n",
       "      <td>810314.00</td>\n",
       "      <td>810314.00</td>\n",
       "      <td>810314.00</td>\n",
       "      <td>810314.00</td>\n",
       "      <td>810225.00</td>\n",
       "      <td>810314.00</td>\n",
       "      <td>810314.00</td>\n",
       "      <td>810314.00</td>\n",
       "    </tr>\n",
       "    <tr>\n",
       "      <th>mean</th>\n",
       "      <td>42603487.08</td>\n",
       "      <td>735.13</td>\n",
       "      <td>0.06</td>\n",
       "      <td>93545.55</td>\n",
       "      <td>653.95</td>\n",
       "      <td>48.81</td>\n",
       "      <td>4.09</td>\n",
       "      <td>inf</td>\n",
       "      <td>2197.15</td>\n",
       "      <td>18.40</td>\n",
       "      <td>0.44</td>\n",
       "    </tr>\n",
       "    <tr>\n",
       "      <th>std</th>\n",
       "      <td>23890119.63</td>\n",
       "      <td>1912.44</td>\n",
       "      <td>1.05</td>\n",
       "      <td>3161305.89</td>\n",
       "      <td>15951.70</td>\n",
       "      <td>1396.85</td>\n",
       "      <td>1.10</td>\n",
       "      <td>NaN</td>\n",
       "      <td>16943.59</td>\n",
       "      <td>36.72</td>\n",
       "      <td>0.92</td>\n",
       "    </tr>\n",
       "    <tr>\n",
       "      <th>min</th>\n",
       "      <td>443.00</td>\n",
       "      <td>0.00</td>\n",
       "      <td>0.00</td>\n",
       "      <td>0.00</td>\n",
       "      <td>0.00</td>\n",
       "      <td>1.00</td>\n",
       "      <td>0.00</td>\n",
       "      <td>0.00</td>\n",
       "      <td>0.00</td>\n",
       "      <td>0.00</td>\n",
       "      <td>0.00</td>\n",
       "    </tr>\n",
       "    <tr>\n",
       "      <th>25%</th>\n",
       "      <td>22728807.00</td>\n",
       "      <td>120.00</td>\n",
       "      <td>0.00</td>\n",
       "      <td>419.00</td>\n",
       "      <td>6.00</td>\n",
       "      <td>1.00</td>\n",
       "      <td>3.86</td>\n",
       "      <td>32.04</td>\n",
       "      <td>207.00</td>\n",
       "      <td>2.67</td>\n",
       "      <td>0.07</td>\n",
       "    </tr>\n",
       "    <tr>\n",
       "      <th>50%</th>\n",
       "      <td>42937633.00</td>\n",
       "      <td>251.00</td>\n",
       "      <td>0.00</td>\n",
       "      <td>2426.00</td>\n",
       "      <td>22.00</td>\n",
       "      <td>2.00</td>\n",
       "      <td>4.52</td>\n",
       "      <td>98.41</td>\n",
       "      <td>810.87</td>\n",
       "      <td>7.60</td>\n",
       "      <td>0.18</td>\n",
       "    </tr>\n",
       "    <tr>\n",
       "      <th>75%</th>\n",
       "      <td>63157447.50</td>\n",
       "      <td>596.00</td>\n",
       "      <td>0.00</td>\n",
       "      <td>11891.00</td>\n",
       "      <td>98.00</td>\n",
       "      <td>7.00</td>\n",
       "      <td>4.80</td>\n",
       "      <td>288.42</td>\n",
       "      <td>2236.82</td>\n",
       "      <td>20.00</td>\n",
       "      <td>0.50</td>\n",
       "    </tr>\n",
       "    <tr>\n",
       "      <th>max</th>\n",
       "      <td>83437063.00</td>\n",
       "      <td>95594.00</td>\n",
       "      <td>18.00</td>\n",
       "      <td>1258240965.00</td>\n",
       "      <td>6541185.00</td>\n",
       "      <td>658991.00</td>\n",
       "      <td>5.00</td>\n",
       "      <td>inf</td>\n",
       "      <td>11305456.00</td>\n",
       "      <td>3125.00</td>\n",
       "      <td>169.00</td>\n",
       "    </tr>\n",
       "  </tbody>\n",
       "</table>\n",
       "</div>"
      ],
      "text/plain": [
       "           row_id  duration  age_limit    view_count  like_count  \\\n",
       "count   810314.00 810314.00  810314.00     810314.00   810314.00   \n",
       "mean  42603487.08    735.13       0.06      93545.55      653.95   \n",
       "std   23890119.63   1912.44       1.05    3161305.89    15951.70   \n",
       "min        443.00      0.00       0.00          0.00        0.00   \n",
       "25%   22728807.00    120.00       0.00        419.00        6.00   \n",
       "50%   42937633.00    251.00       0.00       2426.00       22.00   \n",
       "75%   63157447.50    596.00       0.00      11891.00       98.00   \n",
       "max   83437063.00  95594.00      18.00 1258240965.00  6541185.00   \n",
       "\n",
       "       dislike_count  average_rating  view_like_ratio  view_dislike_ratio  \\\n",
       "count      810314.00       810314.00        810225.00           810314.00   \n",
       "mean           48.81            4.09              inf             2197.15   \n",
       "std          1396.85            1.10              NaN            16943.59   \n",
       "min             1.00            0.00             0.00                0.00   \n",
       "25%             1.00            3.86            32.04              207.00   \n",
       "50%             2.00            4.52            98.41              810.87   \n",
       "75%             7.00            4.80           288.42             2236.82   \n",
       "max        658991.00            5.00              inf         11305456.00   \n",
       "\n",
       "       like_dislike_ratio  dislike_like_ratio  \n",
       "count           810314.00           810314.00  \n",
       "mean                18.40                0.44  \n",
       "std                 36.72                0.92  \n",
       "min                  0.00                0.00  \n",
       "25%                  2.67                0.07  \n",
       "50%                  7.60                0.18  \n",
       "75%                 20.00                0.50  \n",
       "max               3125.00              169.00  "
      ]
     },
     "execution_count": 92,
     "metadata": {},
     "output_type": "execute_result"
    }
   ],
   "source": [
    "randompct_df.describe()"
   ]
  },
  {
   "cell_type": "code",
   "execution_count": 93,
   "metadata": {},
   "outputs": [],
   "source": [
    "random_df_list = np.array_split(randompct_df,8)"
   ]
  },
  {
   "cell_type": "code",
   "execution_count": 96,
   "metadata": {},
   "outputs": [
    {
     "data": {
      "text/html": [
       "<div>\n",
       "<style scoped>\n",
       "    .dataframe tbody tr th:only-of-type {\n",
       "        vertical-align: middle;\n",
       "    }\n",
       "\n",
       "    .dataframe tbody tr th {\n",
       "        vertical-align: top;\n",
       "    }\n",
       "\n",
       "    .dataframe thead th {\n",
       "        text-align: right;\n",
       "    }\n",
       "</style>\n",
       "<table border=\"1\" class=\"dataframe\">\n",
       "  <thead>\n",
       "    <tr style=\"text-align: right;\">\n",
       "      <th></th>\n",
       "      <th>row_id</th>\n",
       "      <th>duration</th>\n",
       "      <th>age_limit</th>\n",
       "      <th>view_count</th>\n",
       "      <th>like_count</th>\n",
       "      <th>dislike_count</th>\n",
       "      <th>average_rating</th>\n",
       "      <th>view_like_ratio</th>\n",
       "      <th>view_dislike_ratio</th>\n",
       "      <th>like_dislike_ratio</th>\n",
       "      <th>dislike_like_ratio</th>\n",
       "    </tr>\n",
       "  </thead>\n",
       "  <tbody>\n",
       "    <tr>\n",
       "      <th>count</th>\n",
       "      <td>101290.00</td>\n",
       "      <td>101290.00</td>\n",
       "      <td>101290.00</td>\n",
       "      <td>101290.00</td>\n",
       "      <td>101290.00</td>\n",
       "      <td>101290.00</td>\n",
       "      <td>101290.00</td>\n",
       "      <td>101281.00</td>\n",
       "      <td>101290.00</td>\n",
       "      <td>101290.00</td>\n",
       "      <td>101290.00</td>\n",
       "    </tr>\n",
       "    <tr>\n",
       "      <th>mean</th>\n",
       "      <td>67825835.13</td>\n",
       "      <td>745.78</td>\n",
       "      <td>0.06</td>\n",
       "      <td>100256.87</td>\n",
       "      <td>781.59</td>\n",
       "      <td>59.50</td>\n",
       "      <td>4.09</td>\n",
       "      <td>inf</td>\n",
       "      <td>2290.93</td>\n",
       "      <td>18.37</td>\n",
       "      <td>0.44</td>\n",
       "    </tr>\n",
       "    <tr>\n",
       "      <th>std</th>\n",
       "      <td>2936996.88</td>\n",
       "      <td>1972.66</td>\n",
       "      <td>1.05</td>\n",
       "      <td>1154721.01</td>\n",
       "      <td>11239.71</td>\n",
       "      <td>1083.35</td>\n",
       "      <td>1.09</td>\n",
       "      <td>NaN</td>\n",
       "      <td>14622.77</td>\n",
       "      <td>35.86</td>\n",
       "      <td>0.95</td>\n",
       "    </tr>\n",
       "    <tr>\n",
       "      <th>min</th>\n",
       "      <td>62750321.00</td>\n",
       "      <td>0.00</td>\n",
       "      <td>0.00</td>\n",
       "      <td>0.00</td>\n",
       "      <td>0.00</td>\n",
       "      <td>1.00</td>\n",
       "      <td>0.00</td>\n",
       "      <td>0.00</td>\n",
       "      <td>0.00</td>\n",
       "      <td>0.00</td>\n",
       "      <td>0.00</td>\n",
       "    </tr>\n",
       "    <tr>\n",
       "      <th>25%</th>\n",
       "      <td>65289460.75</td>\n",
       "      <td>121.00</td>\n",
       "      <td>0.00</td>\n",
       "      <td>425.00</td>\n",
       "      <td>6.00</td>\n",
       "      <td>1.00</td>\n",
       "      <td>3.86</td>\n",
       "      <td>32.00</td>\n",
       "      <td>206.00</td>\n",
       "      <td>2.69</td>\n",
       "      <td>0.07</td>\n",
       "    </tr>\n",
       "    <tr>\n",
       "      <th>50%</th>\n",
       "      <td>67824091.00</td>\n",
       "      <td>251.00</td>\n",
       "      <td>0.00</td>\n",
       "      <td>2432.50</td>\n",
       "      <td>22.00</td>\n",
       "      <td>2.00</td>\n",
       "      <td>4.52</td>\n",
       "      <td>98.29</td>\n",
       "      <td>815.00</td>\n",
       "      <td>7.67</td>\n",
       "      <td>0.18</td>\n",
       "    </tr>\n",
       "    <tr>\n",
       "      <th>75%</th>\n",
       "      <td>70359167.75</td>\n",
       "      <td>594.00</td>\n",
       "      <td>0.00</td>\n",
       "      <td>12101.00</td>\n",
       "      <td>100.00</td>\n",
       "      <td>8.00</td>\n",
       "      <td>4.80</td>\n",
       "      <td>289.50</td>\n",
       "      <td>2264.38</td>\n",
       "      <td>20.00</td>\n",
       "      <td>0.50</td>\n",
       "    </tr>\n",
       "    <tr>\n",
       "      <th>max</th>\n",
       "      <td>83116912.00</td>\n",
       "      <td>48987.00</td>\n",
       "      <td>18.00</td>\n",
       "      <td>68232859.00</td>\n",
       "      <td>2266507.00</td>\n",
       "      <td>239370.00</td>\n",
       "      <td>5.00</td>\n",
       "      <td>inf</td>\n",
       "      <td>2012613.00</td>\n",
       "      <td>1514.00</td>\n",
       "      <td>81.00</td>\n",
       "    </tr>\n",
       "  </tbody>\n",
       "</table>\n",
       "</div>"
      ],
      "text/plain": [
       "           row_id  duration  age_limit  view_count  like_count  dislike_count  \\\n",
       "count   101290.00 101290.00  101290.00   101290.00   101290.00      101290.00   \n",
       "mean  67825835.13    745.78       0.06   100256.87      781.59          59.50   \n",
       "std    2936996.88   1972.66       1.05  1154721.01    11239.71        1083.35   \n",
       "min   62750321.00      0.00       0.00        0.00        0.00           1.00   \n",
       "25%   65289460.75    121.00       0.00      425.00        6.00           1.00   \n",
       "50%   67824091.00    251.00       0.00     2432.50       22.00           2.00   \n",
       "75%   70359167.75    594.00       0.00    12101.00      100.00           8.00   \n",
       "max   83116912.00  48987.00      18.00 68232859.00  2266507.00      239370.00   \n",
       "\n",
       "       average_rating  view_like_ratio  view_dislike_ratio  \\\n",
       "count       101290.00        101281.00           101290.00   \n",
       "mean             4.09              inf             2290.93   \n",
       "std              1.09              NaN            14622.77   \n",
       "min              0.00             0.00                0.00   \n",
       "25%              3.86            32.00              206.00   \n",
       "50%              4.52            98.29              815.00   \n",
       "75%              4.80           289.50             2264.38   \n",
       "max              5.00              inf          2012613.00   \n",
       "\n",
       "       like_dislike_ratio  dislike_like_ratio  \n",
       "count           101290.00           101290.00  \n",
       "mean                18.37                0.44  \n",
       "std                 35.86                0.95  \n",
       "min                  0.00                0.00  \n",
       "25%                  2.69                0.07  \n",
       "50%                  7.67                0.18  \n",
       "75%                 20.00                0.50  \n",
       "max               1514.00               81.00  "
      ]
     },
     "execution_count": 96,
     "metadata": {},
     "output_type": "execute_result"
    }
   ],
   "source": [
    "random_df_list[0].describe()"
   ]
  },
  {
   "cell_type": "code",
   "execution_count": 97,
   "metadata": {},
   "outputs": [],
   "source": [
    "for i, d in enumerate(random_df_list):\n",
    "    d_csv_path = f\"../data/processed/randompct1split_{i}.csv\"\n",
    "    d.to_csv(d_csv_path)"
   ]
  },
  {
   "cell_type": "code",
   "execution_count": 100,
   "metadata": {},
   "outputs": [
    {
     "data": {
      "text/plain": [
       "'filename'"
      ]
     },
     "execution_count": 100,
     "metadata": {},
     "output_type": "execute_result"
    }
   ],
   "source": [
    "\"filename\".split(\".\")[0]"
   ]
  },
  {
   "cell_type": "code",
   "execution_count": 99,
   "metadata": {},
   "outputs": [
    {
     "data": {
      "text/plain": [
       "['filename', 'csv']"
      ]
     },
     "execution_count": 99,
     "metadata": {},
     "output_type": "execute_result"
    }
   ],
   "source": [
    "\"filename.csv\".split(\".\")"
   ]
  },
  {
   "cell_type": "code",
   "execution_count": null,
   "metadata": {},
   "outputs": [],
   "source": []
  }
 ],
 "metadata": {
  "kernelspec": {
   "display_name": "Python 3 (ipykernel)",
   "language": "python",
   "name": "python3"
  },
  "language_info": {
   "codemirror_mode": {
    "name": "ipython",
    "version": 3
   },
   "file_extension": ".py",
   "mimetype": "text/x-python",
   "name": "python",
   "nbconvert_exporter": "python",
   "pygments_lexer": "ipython3",
   "version": "3.10.4"
  }
 },
 "nbformat": 4,
 "nbformat_minor": 4
}
