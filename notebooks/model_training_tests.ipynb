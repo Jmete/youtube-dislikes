{
 "cells": [
  {
   "cell_type": "markdown",
   "id": "983eb787",
   "metadata": {},
   "source": [
    "# Model Training & Testing\n",
    "This notebook is intended to help train and test various models, and expanded from our data_model_prep notebook."
   ]
  },
  {
   "cell_type": "code",
   "execution_count": 15,
   "id": "4f1e0a99",
   "metadata": {},
   "outputs": [],
   "source": [
    "import pandas as pd\n",
    "import numpy as np\n",
    "from sklearn.model_selection import train_test_split\n",
    "from sklearn.metrics import accuracy_score, f1_score\n",
    "from sklearn.dummy import DummyClassifier\n",
    "from sklearn.linear_model import LogisticRegression\n",
    "from sklearn.ensemble import RandomForestClassifier\n",
    "from sklearn.model_selection import cross_val_score\n",
    "from sklearn.metrics import ConfusionMatrixDisplay\n",
    "from sklearn.metrics import plot_confusion_matrix\n",
    "import matplotlib.pyplot as plt\n",
    "import lightgbm as lgb\n",
    "from sklearn.model_selection import GridSearchCV\n",
    "\n",
    "from tqdm.notebook import tqdm\n",
    "\n",
    "import os\n",
    "import pickle\n",
    "\n",
    "random_state = 42"
   ]
  },
  {
   "cell_type": "markdown",
   "id": "0cb1f885",
   "metadata": {},
   "source": [
    "## Set up paths"
   ]
  },
  {
   "cell_type": "code",
   "execution_count": 10,
   "id": "5588aeb6",
   "metadata": {},
   "outputs": [],
   "source": [
    "# For python pipeline that will be run from root folder of project\n",
    "# ROOT_DIR = os.path.abspath(os.curdir)\n",
    "\n",
    "# # Pickle save paths\n",
    "# training_df_path = os.path.join(ROOT_DIR,\"data/processed/training_df.pkl\")\n",
    "# testing_df_path = os.path.join(ROOT_DIR,\"data/processed/testing_df.pkl\")\n",
    "\n",
    "# Relative path for notebook\n",
    "training_df_path = \"../data/processed/training_df.pkl\"\n",
    "testing_df_path = \"../data/processed/testing_df.pkl\""
   ]
  },
  {
   "cell_type": "markdown",
   "id": "1af712c5",
   "metadata": {},
   "source": [
    "## Load training and test dataframes"
   ]
  },
  {
   "cell_type": "code",
   "execution_count": 12,
   "id": "88940982",
   "metadata": {},
   "outputs": [],
   "source": [
    "training_df = pd.read_pickle(training_df_path)\n",
    "testing_df = pd.read_pickle(testing_df_path)"
   ]
  },
  {
   "cell_type": "markdown",
   "id": "b6fe9d64",
   "metadata": {},
   "source": [
    "## Columns for model training"
   ]
  },
  {
   "cell_type": "code",
   "execution_count": 13,
   "id": "283c877d",
   "metadata": {},
   "outputs": [],
   "source": [
    "# Based on what we can get at inference time from the Youtube API or scraping\n",
    "X_cols = [\n",
    "    \"duration\",\n",
    "    \"age_limit\",\n",
    "    \"view_count\",\n",
    "    \"like_count\",\n",
    "    \"view_like_ratio\",\n",
    "    \"is_comments_enabled\",\n",
    "    \"is_live_content\",\n",
    "    \"cat_codes\",\n",
    "    \"neu\",\n",
    "    \"neg\",\n",
    "    \"pos\",\n",
    "    \"compound\",\n",
    "]\n",
    "\n",
    "y_col = \"ld_score_ohe\""
   ]
  },
  {
   "cell_type": "markdown",
   "id": "2159ff32",
   "metadata": {},
   "source": [
    "## Helper Functions"
   ]
  },
  {
   "cell_type": "code",
   "execution_count": 17,
   "id": "60cb281b",
   "metadata": {},
   "outputs": [],
   "source": [
    "def create_training_test_sets(df,X_cols,y_col,random_state=None):\n",
    "    \"\"\"\n",
    "    Takes in a processed dataframe and splits it into appropriate training and test splits.\n",
    "    \"\"\"\n",
    "    X = df[X_cols]\n",
    "    y = df[y_col]\n",
    "    X_train, X_test, y_train, y_test = train_test_split(X,y,test_size=0.1,random_state=random_state)\n",
    "    print(\"Splits created\")\n",
    "    return X, y, X_train, X_test, y_train,y_test\n",
    "\n",
    "def train_model(clf_object,model_name,X_train,y_train,X_test,y_test):\n",
    "    clf_object.fit(X_train,y_train)\n",
    "    acc, f1 = test_model_metrics(clf=clf_object,model_name=model_name)\n",
    "    return clf_object, acc, f1\n",
    "\n",
    "def test_model_metrics(clf, model_name,X_test,y_test):\n",
    "    testpreds = clf.predict(X_test)\n",
    "    acc = accuracy_score(y_test,testpreds)\n",
    "    \n",
    "    if len(y_test.unique()) > 2:\n",
    "        average = \"weighted\"\n",
    "    else:\n",
    "        average = \"binary\"\n",
    "        \n",
    "    f1 = f1_score(y_test,testpreds,average=average)\n",
    "    print(f\"{model_name} metrics:\")\n",
    "    print(f\"Accuracy Score: {acc}\")\n",
    "    print(f\"F1 score: {f1}\")\n",
    "    return acc,f1\n",
    "\n",
    "def cross_val_model(df,clf_object,X_cols,y_col,random_state,scoring,cv=5):\n",
    "    \"\"\"\n",
    "    Takes in a df, processes it, and then outputs a cross-validation f1 score.\n",
    "    Adapted from sklearn docs.\n",
    "    Scoring types available here: https://scikit-learn.org/stable/modules/model_evaluation.html#scoring-parameter\n",
    "    \"\"\"\n",
    "    X, y, X_train,X_test,y_train,y_test = create_training_test_sets(df,X_cols,y_col,random_state=random_state)\n",
    "    scores = cross_val_score(clf_object, X, y, cv=cv,scoring=scoring,verbose=1,n_jobs=-1)\n",
    "    print(f\"{scores.mean():0.2f} {scoring} with a standard deviation of {scores.std():0.2f}\")\n",
    "    return scores\n",
    "\n",
    "def confusion_matrix_model(df,clf_object,X_cols,y_col,random_state,model_name):\n",
    "    \"\"\"\n",
    "    Takes in a df, processes it, and then outputs a confusion matrix.\n",
    "    Adapted from sklearn docs: https://scikit-learn.org/stable/auto_examples/model_selection/plot_confusion_matrix.html#sphx-glr-auto-examples-model-selection-plot-confusion-matrix-py\n",
    "    Scoring types available here: https://scikit-learn.org/stable/modules/model_evaluation.html#scoring-parameter\n",
    "    \"\"\"\n",
    "    X, y, X_train,X_test,y_train,y_test = create_training_test_sets(df,X_cols,y_col,random_state=random_state)\n",
    "    clf_object.fit(X_train,y_train)\n",
    "    \n",
    "    # Adapted from sklearn docs\n",
    "    np.set_printoptions(precision=2)\n",
    "\n",
    "    # Plot non-normalized confusion matrix\n",
    "    titles_options = [\n",
    "        (f\"{model_name} Confusion matrix, without normalization\", None),\n",
    "        (f\"{model_name} Normalized confusion matrix\", \"true\"),\n",
    "    ]\n",
    "    \n",
    "    for title, normalize in titles_options:\n",
    "        disp = ConfusionMatrixDisplay.from_estimator(\n",
    "            clf_object,\n",
    "            X_test,\n",
    "            y_test,\n",
    "            cmap=plt.cm.Blues,\n",
    "            normalize=normalize,\n",
    "        )\n",
    "        disp.ax_.set_title(title)\n",
    "\n",
    "        print(title)\n",
    "        print(disp.confusion_matrix)"
   ]
  },
  {
   "cell_type": "markdown",
   "id": "eafa59c5",
   "metadata": {},
   "source": [
    "## Model Training"
   ]
  },
  {
   "cell_type": "markdown",
   "id": "77cb2059",
   "metadata": {},
   "source": [
    "### Random Forest"
   ]
  },
  {
   "cell_type": "code",
   "execution_count": 18,
   "id": "038e2ac8",
   "metadata": {},
   "outputs": [
    {
     "name": "stdout",
     "output_type": "stream",
     "text": [
      "Random Forest metrics:\n",
      "Accuracy Score: 0.8328328328328328\n",
      "F1 score: 0.8082752404420278\n"
     ]
    }
   ],
   "source": [
    "# Training model\n",
    "rf_clf = RandomForestClassifier(n_jobs=-1,random_state=random_state)\n",
    "rf_clf.fit(training_df[X_cols],training_df[y_col])\n",
    "\n",
    "# Testing model\n",
    "rf_acc,rf_f1 = test_model_metrics(rf_clf,\"Random Forest\",testing_df[X_cols],testing_df[y_col])"
   ]
  },
  {
   "cell_type": "code",
   "execution_count": 25,
   "id": "d9dedc2e",
   "metadata": {},
   "outputs": [
    {
     "name": "stdout",
     "output_type": "stream",
     "text": [
      "RF Confusion Matrix\n",
      "[[0.83443619 0.04055818 0.12500563]\n",
      " [0.28792763 0.15508994 0.55698243]\n",
      " [0.05154956 0.00763359 0.94081685]]\n"
     ]
    },
    {
     "data": {
      "image/png": "[encoded data removed]",
      "text/plain": [
       "<Figure size 432x288 with 2 Axes>"
      ]
     },
     "metadata": {
      "needs_background": "light"
     },
     "output_type": "display_data"
    }
   ],
   "source": [
    "disp = ConfusionMatrixDisplay.from_estimator(\n",
    "    rf_clf,\n",
    "    testing_df[X_cols],\n",
    "    testing_df[y_col],\n",
    "    cmap=plt.cm.Blues,\n",
    "    normalize=\"true\",\n",
    ")\n",
    "disp.ax_.set_title(\"RF Confusion Matrix\")\n",
    "\n",
    "print(\"RF Confusion Matrix\")\n",
    "print(disp.confusion_matrix)"
   ]
  },
  {
   "cell_type": "markdown",
   "id": "b9cfb58b",
   "metadata": {},
   "source": [
    "### GBM"
   ]
  },
  {
   "cell_type": "code",
   "execution_count": 24,
   "id": "8731796e",
   "metadata": {},
   "outputs": [
    {
     "name": "stderr",
     "output_type": "stream",
     "text": [
      "/home/james/miniconda3/envs/ydmads/lib/python3.9/site-packages/lightgbm/sklearn.py:736: UserWarning: 'verbose' argument is deprecated and will be removed in a future release of LightGBM. Pass 'log_evaluation()' callback via 'callbacks' argument instead.\n",
      "  _log_warning(\"'verbose' argument is deprecated and will be removed in a future release of LightGBM. \"\n"
     ]
    },
    {
     "name": "stdout",
     "output_type": "stream",
     "text": [
      "GBM metrics:\n",
      "Accuracy Score: 0.8461547967720807\n",
      "F1 score: 0.8213557660023547\n"
     ]
    }
   ],
   "source": [
    "# Training model\n",
    "# Params Based on previous gridsearch cvs\n",
    "gbm_model = lgb.LGBMClassifier(learning_rate=0.05,\n",
    "                               max_depth=20,\n",
    "                               min_child_samples=15,\n",
    "                               num_leaves=100,\n",
    "                               reg_alpha=0.03,\n",
    "                               random_state=random_state)\n",
    "gbm_model.fit(training_df[X_cols],training_df[y_col], verbose=20,eval_metric='logloss')\n",
    "\n",
    "# Testing model\n",
    "gbm_acc,gbm_f1 = test_model_metrics(gbm_model,\"GBM\",testing_df[X_cols],testing_df[y_col])"
   ]
  },
  {
   "cell_type": "code",
   "execution_count": 26,
   "id": "4d47cd1a",
   "metadata": {},
   "outputs": [
    {
     "name": "stdout",
     "output_type": "stream",
     "text": [
      "GBM Confusion Matrix\n",
      "[[0.8089129  0.05559307 0.13549404]\n",
      " [0.21857128 0.18545284 0.59597588]\n",
      " [0.03970462 0.00171112 0.95858426]]\n"
     ]
    },
    {
     "data": {
      "image/png": "[encoded data removed]",
      "text/plain": [
       "<Figure size 432x288 with 2 Axes>"
      ]
     },
     "metadata": {
      "needs_background": "light"
     },
     "output_type": "display_data"
    }
   ],
   "source": [
    "disp = ConfusionMatrixDisplay.from_estimator(\n",
    "    gbm_model,\n",
    "    testing_df[X_cols],\n",
    "    testing_df[y_col],\n",
    "    cmap=plt.cm.Blues,\n",
    "    normalize=\"true\",\n",
    ")\n",
    "disp.ax_.set_title(\"GBM Confusion Matrix\")\n",
    "\n",
    "print(\"GBM Confusion Matrix\")\n",
    "print(disp.confusion_matrix)"
   ]
  },
  {
   "cell_type": "markdown",
   "id": "2b334408",
   "metadata": {},
   "source": [
    "### Neural Net\n",
    "We will use fastai to create a tabular learner neural net"
   ]
  },
  {
   "cell_type": "code",
   "execution_count": 1,
   "id": "023cdc64",
   "metadata": {},
   "outputs": [
    {
     "ename": "ModuleNotFoundError",
     "evalue": "No module named 'fastai'",
     "output_type": "error",
     "traceback": [
      "\u001b[0;31m---------------------------------------------------------------------------\u001b[0m",
      "\u001b[0;31mModuleNotFoundError\u001b[0m                       Traceback (most recent call last)",
      "Input \u001b[0;32mIn [1]\u001b[0m, in \u001b[0;36m<cell line: 1>\u001b[0;34m()\u001b[0m\n\u001b[0;32m----> 1\u001b[0m \u001b[38;5;28;01mfrom\u001b[39;00m \u001b[38;5;21;01mfastai\u001b[39;00m\u001b[38;5;21;01m.\u001b[39;00m\u001b[38;5;21;01mtabular\u001b[39;00m\u001b[38;5;21;01m.\u001b[39;00m\u001b[38;5;21;01mall\u001b[39;00m \u001b[38;5;28;01mimport\u001b[39;00m \u001b[38;5;241m*\u001b[39m\n",
      "\u001b[0;31mModuleNotFoundError\u001b[0m: No module named 'fastai'"
     ]
    }
   ],
   "source": [
    "from fastai.tabular.all import *"
   ]
  },
  {
   "cell_type": "code",
   "execution_count": 30,
   "id": "90f689cb",
   "metadata": {},
   "outputs": [
    {
     "data": {
      "text/plain": [
       "['duration',\n",
       " 'age_limit',\n",
       " 'view_count',\n",
       " 'like_count',\n",
       " 'view_like_ratio',\n",
       " 'is_comments_enabled',\n",
       " 'is_live_content',\n",
       " 'cat_codes',\n",
       " 'neu',\n",
       " 'neg',\n",
       " 'pos',\n",
       " 'compound']"
      ]
     },
     "execution_count": 30,
     "metadata": {},
     "output_type": "execute_result"
    }
   ],
   "source": [
    "X_cols"
   ]
  },
  {
   "cell_type": "code",
   "execution_count": null,
   "id": "444fa81e",
   "metadata": {},
   "outputs": [],
   "source": [
    "# Based on fastai tutorial docs: https://docs.fast.ai/tabular.learner.html\n",
    "cat_names = ['age_limit','is_comments_enabled','is_live_content','cat_codes']\n",
    "cont_names = ['duration', 'view_count', 'like_count','view_like_ratio','neu','neg','pos','compound']\n",
    "procs = [Categorify, FillMissing, Normalize]\n",
    "dls = TabularDataLoaders.from_df(df, path, procs=procs, cat_names=cat_names, cont_names=cont_names, \n",
    "                                 y_names=\"salary\", valid_idx=list(range(800,1000)), bs=64)\n",
    "learn = tabular_learner(dls)"
   ]
  }
 ],
 "metadata": {
  "kernelspec": {
   "display_name": "Python [conda env:ydmads]",
   "language": "python",
   "name": "conda-env-ydmads-py"
  },
  "language_info": {
   "codemirror_mode": {
    "name": "ipython",
    "version": 3
   },
   "file_extension": ".py",
   "mimetype": "text/x-python",
   "name": "python",
   "nbconvert_exporter": "python",
   "pygments_lexer": "ipython3",
   "version": "3.9.12"
  }
 },
 "nbformat": 4,
 "nbformat_minor": 5
}
