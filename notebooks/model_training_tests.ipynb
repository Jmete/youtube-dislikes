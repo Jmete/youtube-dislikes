{
 "cells": [
  {
   "cell_type": "markdown",
   "id": "983eb787",
   "metadata": {},
   "source": [
    "# Model Training & Testing\n",
    "This notebook is intended to help train and test various models, and expanded from our data_model_prep notebook."
   ]
  },
  {
   "cell_type": "code",
   "execution_count": 1,
   "id": "4f1e0a99",
   "metadata": {},
   "outputs": [],
   "source": [
    "import pandas as pd\n",
    "import numpy as np\n",
    "from sklearn.model_selection import train_test_split\n",
    "from sklearn.metrics import accuracy_score, f1_score\n",
    "from sklearn.dummy import DummyClassifier\n",
    "from sklearn.linear_model import LogisticRegression\n",
    "from sklearn.ensemble import RandomForestClassifier\n",
    "from sklearn.model_selection import cross_val_score\n",
    "from sklearn.metrics import ConfusionMatrixDisplay\n",
    "from sklearn.metrics import plot_confusion_matrix\n",
    "import matplotlib.pyplot as plt\n",
    "import lightgbm as lgb\n",
    "from sklearn.model_selection import GridSearchCV\n",
    "\n",
    "from fastai.tabular.all import *\n",
    "from sklearn.neural_network import MLPClassifier\n",
    "\n",
    "from sklearn.preprocessing import StandardScaler\n",
    "\n",
    "from tqdm.notebook import tqdm\n",
    "\n",
    "import os\n",
    "import pickle\n",
    "\n",
    "random_state = 42"
   ]
  },
  {
   "cell_type": "markdown",
   "id": "0cb1f885",
   "metadata": {},
   "source": [
    "## Set up paths"
   ]
  },
  {
   "cell_type": "code",
   "execution_count": 2,
   "id": "5588aeb6",
   "metadata": {},
   "outputs": [],
   "source": [
    "# For python pipeline that will be run from root folder of project\n",
    "# ROOT_DIR = os.path.abspath(os.curdir)\n",
    "\n",
    "# # Pickle save paths\n",
    "# training_df_path = os.path.join(ROOT_DIR,\"data/processed/training_df.pkl\")\n",
    "# testing_df_path = os.path.join(ROOT_DIR,\"data/processed/testing_df.pkl\")\n",
    "\n",
    "# Relative path for notebook\n",
    "training_df_path = \"../data/processed/training_df.pkl\"\n",
    "testing_df_path = \"../data/processed/testing_df.pkl\""
   ]
  },
  {
   "cell_type": "markdown",
   "id": "1af712c5",
   "metadata": {},
   "source": [
    "## Load training and test dataframes"
   ]
  },
  {
   "cell_type": "code",
   "execution_count": 3,
   "id": "88940982",
   "metadata": {},
   "outputs": [],
   "source": [
    "training_df = pd.read_pickle(training_df_path)\n",
    "testing_df = pd.read_pickle(testing_df_path)"
   ]
  },
  {
   "cell_type": "markdown",
   "id": "b6fe9d64",
   "metadata": {},
   "source": [
    "## Columns for model training"
   ]
  },
  {
   "cell_type": "code",
   "execution_count": 4,
   "id": "283c877d",
   "metadata": {},
   "outputs": [],
   "source": [
    "# Based on what we can get at inference time from the Youtube API or scraping\n",
    "X_cols = [\n",
    "    \"duration\",\n",
    "    \"age_limit\",\n",
    "    \"view_count\",\n",
    "    \"like_count\",\n",
    "    \"view_like_ratio\",\n",
    "    \"is_comments_enabled\",\n",
    "    \"is_live_content\",\n",
    "    \"cat_codes\",\n",
    "    \"neu\",\n",
    "    \"neg\",\n",
    "    \"pos\",\n",
    "    \"compound\",\n",
    "]\n",
    "\n",
    "y_col = \"ld_score_ohe\"\n",
    "\n",
    "# Get all related columns - useful for fastai models\n",
    "all_related_cols = X_cols.copy()\n",
    "all_related_cols.append(y_col)"
   ]
  },
  {
   "cell_type": "code",
   "execution_count": 38,
   "id": "0511a6b1",
   "metadata": {},
   "outputs": [],
   "source": [
    "# Testing scaled versions\n",
    "scaler = StandardScaler()\n",
    "training_df_scaled_X = scaler.fit_transform(training_df[X_cols])\n",
    "testing_df_scaled_X = scaler.transform(testing_df[X_cols])"
   ]
  },
  {
   "cell_type": "markdown",
   "id": "2159ff32",
   "metadata": {},
   "source": [
    "## Helper Functions"
   ]
  },
  {
   "cell_type": "code",
   "execution_count": 6,
   "id": "60cb281b",
   "metadata": {},
   "outputs": [],
   "source": [
    "def create_training_test_sets(df,X_cols,y_col,random_state=None):\n",
    "    \"\"\"\n",
    "    Takes in a processed dataframe and splits it into appropriate training and test splits.\n",
    "    \"\"\"\n",
    "    X = df[X_cols]\n",
    "    y = df[y_col]\n",
    "    X_train, X_test, y_train, y_test = train_test_split(X,y,test_size=0.1,random_state=random_state)\n",
    "    print(\"Splits created\")\n",
    "    return X, y, X_train, X_test, y_train,y_test\n",
    "\n",
    "def train_model(clf_object,model_name,X_train,y_train,X_test,y_test):\n",
    "    clf_object.fit(X_train,y_train)\n",
    "    acc, f1 = test_model_metrics(clf=clf_object,model_name=model_name)\n",
    "    return clf_object, acc, f1\n",
    "\n",
    "def test_model_metrics(clf, model_name,X_test,y_test):\n",
    "    testpreds = clf.predict(X_test)\n",
    "    acc = accuracy_score(y_test,testpreds)\n",
    "    \n",
    "    if len(y_test.unique()) > 2:\n",
    "        average = \"weighted\"\n",
    "    else:\n",
    "        average = \"binary\"\n",
    "        \n",
    "    f1 = f1_score(y_test,testpreds,average=average)\n",
    "    print(f\"{model_name} metrics:\")\n",
    "    print(f\"Accuracy Score: {acc}\")\n",
    "    print(f\"F1 score: {f1}\")\n",
    "    return acc,f1\n",
    "\n",
    "def cross_val_model(df,clf_object,X_cols,y_col,random_state,scoring,cv=5):\n",
    "    \"\"\"\n",
    "    Takes in a df, processes it, and then outputs a cross-validation f1 score.\n",
    "    Adapted from sklearn docs.\n",
    "    Scoring types available here: https://scikit-learn.org/stable/modules/model_evaluation.html#scoring-parameter\n",
    "    \"\"\"\n",
    "    X, y, X_train,X_test,y_train,y_test = create_training_test_sets(df,X_cols,y_col,random_state=random_state)\n",
    "    scores = cross_val_score(clf_object, X, y, cv=cv,scoring=scoring,verbose=1,n_jobs=-1)\n",
    "    print(f\"{scores.mean():0.2f} {scoring} with a standard deviation of {scores.std():0.2f}\")\n",
    "    return scores\n",
    "\n",
    "def confusion_matrix_model(df,clf_object,X_cols,y_col,random_state,model_name):\n",
    "    \"\"\"\n",
    "    Takes in a df, processes it, and then outputs a confusion matrix.\n",
    "    Adapted from sklearn docs: https://scikit-learn.org/stable/auto_examples/model_selection/plot_confusion_matrix.html#sphx-glr-auto-examples-model-selection-plot-confusion-matrix-py\n",
    "    Scoring types available here: https://scikit-learn.org/stable/modules/model_evaluation.html#scoring-parameter\n",
    "    \"\"\"\n",
    "    X, y, X_train,X_test,y_train,y_test = create_training_test_sets(df,X_cols,y_col,random_state=random_state)\n",
    "    clf_object.fit(X_train,y_train)\n",
    "    \n",
    "    # Adapted from sklearn docs\n",
    "    np.set_printoptions(precision=2)\n",
    "\n",
    "    # Plot non-normalized confusion matrix\n",
    "    titles_options = [\n",
    "        (f\"{model_name} Confusion matrix, without normalization\", None),\n",
    "        (f\"{model_name} Normalized confusion matrix\", \"true\"),\n",
    "    ]\n",
    "    \n",
    "    for title, normalize in titles_options:\n",
    "        disp = ConfusionMatrixDisplay.from_estimator(\n",
    "            clf_object,\n",
    "            X_test,\n",
    "            y_test,\n",
    "            cmap=plt.cm.Blues,\n",
    "            normalize=normalize,\n",
    "        )\n",
    "        disp.ax_.set_title(title)\n",
    "\n",
    "        print(title)\n",
    "        print(disp.confusion_matrix)"
   ]
  },
  {
   "cell_type": "markdown",
   "id": "eafa59c5",
   "metadata": {},
   "source": [
    "## Model Training"
   ]
  },
  {
   "cell_type": "markdown",
   "id": "77cb2059",
   "metadata": {},
   "source": [
    "### Random Forest"
   ]
  },
  {
   "cell_type": "code",
   "execution_count": 7,
   "id": "038e2ac8",
   "metadata": {},
   "outputs": [
    {
     "name": "stdout",
     "output_type": "stream",
     "text": [
      "Random Forest metrics:\n",
      "Accuracy Score: 0.8328328328328328\n",
      "F1 score: 0.8082752404420278\n"
     ]
    }
   ],
   "source": [
    "# Training model\n",
    "rf_clf = RandomForestClassifier(n_jobs=-1,random_state=random_state)\n",
    "rf_clf.fit(training_df[X_cols],training_df[y_col])\n",
    "\n",
    "# Testing model\n",
    "rf_acc,rf_f1 = test_model_metrics(rf_clf,\"Random Forest\",testing_df[X_cols],testing_df[y_col])"
   ]
  },
  {
   "cell_type": "code",
   "execution_count": 8,
   "id": "d9dedc2e",
   "metadata": {},
   "outputs": [
    {
     "name": "stdout",
     "output_type": "stream",
     "text": [
      "RF Confusion Matrix\n",
      "[[0.83443619 0.04055818 0.12500563]\n",
      " [0.28792763 0.15508994 0.55698243]\n",
      " [0.05154956 0.00763359 0.94081685]]\n"
     ]
    },
    {
     "data": {
      "image/png": "[encoded data removed]",
      "text/plain": [
       "<Figure size 432x288 with 2 Axes>"
      ]
     },
     "metadata": {
      "needs_background": "light"
     },
     "output_type": "display_data"
    }
   ],
   "source": [
    "disp = ConfusionMatrixDisplay.from_estimator(\n",
    "    rf_clf,\n",
    "    testing_df[X_cols],\n",
    "    testing_df[y_col],\n",
    "    cmap=plt.cm.Blues,\n",
    "    normalize=\"true\",\n",
    ")\n",
    "disp.ax_.set_title(\"RF Confusion Matrix\")\n",
    "\n",
    "print(\"RF Confusion Matrix\")\n",
    "print(disp.confusion_matrix)"
   ]
  },
  {
   "cell_type": "code",
   "execution_count": 9,
   "id": "687a0476",
   "metadata": {},
   "outputs": [
    {
     "name": "stdout",
     "output_type": "stream",
     "text": [
      "Random Forest-Scaled metrics:\n",
      "Accuracy Score: 0.8330305614256232\n",
      "F1 score: 0.8086059980948302\n",
      "RF Confusion Matrix-Scaled\n",
      "[[0.83466126 0.04127842 0.12406032]\n",
      " [0.28615993 0.15638973 0.55745035]\n",
      " [0.05138343 0.0077831  0.94083346]]\n"
     ]
    },
    {
     "data": {
      "image/png": "[encoded data removed]",
      "text/plain": [
       "<Figure size 432x288 with 2 Axes>"
      ]
     },
     "metadata": {
      "needs_background": "light"
     },
     "output_type": "display_data"
    }
   ],
   "source": [
    "# Training model - scaled\n",
    "rf_clf = RandomForestClassifier(n_jobs=-1,random_state=random_state)\n",
    "rf_clf.fit(training_df_scaled_X,training_df[y_col])\n",
    "\n",
    "# Testing model\n",
    "rf_acc,rf_f1 = test_model_metrics(rf_clf,\"Random Forest-Scaled\",testing_df_scaled_X,testing_df[y_col])\n",
    "\n",
    "disp = ConfusionMatrixDisplay.from_estimator(\n",
    "    rf_clf,\n",
    "    testing_df_scaled_X,\n",
    "    testing_df[y_col],\n",
    "    cmap=plt.cm.Blues,\n",
    "    normalize=\"true\",\n",
    ")\n",
    "disp.ax_.set_title(\"RF Confusion Matrix-Scaled\")\n",
    "\n",
    "print(\"RF Confusion Matrix-Scaled\")\n",
    "print(disp.confusion_matrix)"
   ]
  },
  {
   "cell_type": "markdown",
   "id": "b9cfb58b",
   "metadata": {},
   "source": [
    "### GBM"
   ]
  },
  {
   "cell_type": "code",
   "execution_count": 10,
   "id": "8731796e",
   "metadata": {},
   "outputs": [
    {
     "name": "stdout",
     "output_type": "stream",
     "text": [
      "GBM metrics:\n",
      "Accuracy Score: 0.8461547967720807\n",
      "F1 score: 0.8213557660023547\n"
     ]
    }
   ],
   "source": [
    "# Training model\n",
    "# Params Based on previous gridsearch cvs\n",
    "gbm_model = lgb.LGBMClassifier(learning_rate=0.05,\n",
    "                               max_depth=20,\n",
    "                               min_child_samples=15,\n",
    "                               num_leaves=100,\n",
    "                               reg_alpha=0.03,\n",
    "                               random_state=random_state)\n",
    "gbm_model.fit(training_df[X_cols],training_df[y_col], verbose=20,eval_metric='logloss')\n",
    "\n",
    "# Testing model\n",
    "gbm_acc,gbm_f1 = test_model_metrics(gbm_model,\"GBM\",testing_df[X_cols],testing_df[y_col])"
   ]
  },
  {
   "cell_type": "code",
   "execution_count": 11,
   "id": "4d47cd1a",
   "metadata": {},
   "outputs": [
    {
     "name": "stdout",
     "output_type": "stream",
     "text": [
      "GBM Confusion Matrix\n",
      "[[0.8089129  0.05559307 0.13549404]\n",
      " [0.21857128 0.18545284 0.59597588]\n",
      " [0.03970462 0.00171112 0.95858426]]\n"
     ]
    },
    {
     "data": {
      "image/png": "[encoded data removed]",
      "text/plain": [
       "<Figure size 432x288 with 2 Axes>"
      ]
     },
     "metadata": {
      "needs_background": "light"
     },
     "output_type": "display_data"
    }
   ],
   "source": [
    "disp = ConfusionMatrixDisplay.from_estimator(\n",
    "    gbm_model,\n",
    "    testing_df[X_cols],\n",
    "    testing_df[y_col],\n",
    "    cmap=plt.cm.Blues,\n",
    "    normalize=\"true\",\n",
    ")\n",
    "disp.ax_.set_title(\"GBM Confusion Matrix\")\n",
    "\n",
    "print(\"GBM Confusion Matrix\")\n",
    "print(disp.confusion_matrix)"
   ]
  },
  {
   "cell_type": "code",
   "execution_count": 12,
   "id": "662acbfd",
   "metadata": {},
   "outputs": [
    {
     "name": "stdout",
     "output_type": "stream",
     "text": [
      "GBM-Scaled metrics:\n",
      "Accuracy Score: 0.8465440749391366\n",
      "F1 score: 0.821778307917147\n",
      "GBM Confusion Matrix-Scaled\n",
      "[[0.80837272 0.05671843 0.13490885]\n",
      " [0.21753145 0.18644068 0.59602787]\n",
      " [0.03958833 0.00136225 0.95904941]]\n"
     ]
    },
    {
     "data": {
      "image/png": "[encoded data removed]",
      "text/plain": [
       "<Figure size 432x288 with 2 Axes>"
      ]
     },
     "metadata": {
      "needs_background": "light"
     },
     "output_type": "display_data"
    }
   ],
   "source": [
    "# Training model - scaled version\n",
    "# Params Based on previous gridsearch cvs\n",
    "gbm_model = lgb.LGBMClassifier(learning_rate=0.05,\n",
    "                               max_depth=20,\n",
    "                               min_child_samples=15,\n",
    "                               num_leaves=100,\n",
    "                               reg_alpha=0.03,\n",
    "                               random_state=random_state)\n",
    "gbm_model.fit(training_df_scaled_X,training_df[y_col], verbose=20,eval_metric='logloss')\n",
    "\n",
    "# Testing model\n",
    "gbm_acc,gbm_f1 = test_model_metrics(gbm_model,\"GBM-Scaled\",testing_df_scaled_X,testing_df[y_col])\n",
    "\n",
    "disp = ConfusionMatrixDisplay.from_estimator(\n",
    "    gbm_model,\n",
    "    testing_df_scaled_X,\n",
    "    testing_df[y_col],\n",
    "    cmap=plt.cm.Blues,\n",
    "    normalize=\"true\",\n",
    ")\n",
    "disp.ax_.set_title(\"GBM Confusion Matrix-Scaled\")\n",
    "\n",
    "print(\"GBM Confusion Matrix-Scaled\")\n",
    "print(disp.confusion_matrix)"
   ]
  },
  {
   "cell_type": "markdown",
   "id": "2b334408",
   "metadata": {},
   "source": [
    "### Neural Net\n",
    "We will use sklearn mlp and fastai to create a tabular learner neural net"
   ]
  },
  {
   "cell_type": "code",
   "execution_count": 15,
   "id": "d24543ec",
   "metadata": {},
   "outputs": [
    {
     "name": "stdout",
     "output_type": "stream",
     "text": [
      "Iteration 1, loss = 5.03179586\n",
      "Iteration 2, loss = 4.26178312\n",
      "Iteration 3, loss = 3.72876109\n",
      "Iteration 4, loss = 3.70338876\n",
      "Iteration 5, loss = 3.28718026\n",
      "Iteration 6, loss = 3.60041842\n",
      "Iteration 7, loss = 3.68811624\n",
      "Iteration 8, loss = 3.97759808\n",
      "Iteration 9, loss = 3.63783898\n",
      "Iteration 10, loss = 3.36762759\n",
      "Iteration 11, loss = 3.69524900\n",
      "Iteration 12, loss = 3.62926174\n",
      "Iteration 13, loss = 3.58802954\n",
      "Iteration 14, loss = 3.62091692\n",
      "Iteration 15, loss = 3.69811208\n",
      "Iteration 16, loss = 3.69174171\n",
      "Training loss did not improve more than tol=0.000100 for 10 consecutive epochs. Stopping.\n",
      "MLP metrics:\n",
      "Accuracy Score: 0.7386336954238188\n",
      "F1 score: 0.7295970292374239\n",
      "MLP Confusion Matrix\n",
      "[[0.90555931 0.02750394 0.06693675]\n",
      " [0.60803785 0.04559634 0.34636581]\n",
      " [0.16447516 0.01696999 0.81855485]]\n"
     ]
    },
    {
     "data": {
      "image/png": "[encoded data removed]",
      "text/plain": [
       "<Figure size 432x288 with 2 Axes>"
      ]
     },
     "metadata": {
      "needs_background": "light"
     },
     "output_type": "display_data"
    }
   ],
   "source": [
    "# Starting with Sklearn MLP\n",
    "# Training model\n",
    "mlp_clf = MLPClassifier(random_state=random_state, max_iter=300, verbose=2)\n",
    "mlp_clf.fit(training_df[X_cols],training_df[y_col])\n",
    "\n",
    "# Testing model\n",
    "mlp_acc,mlp_f1 = test_model_metrics(mlp_clf,\"MLP\",testing_df[X_cols],testing_df[y_col])\n",
    "\n",
    "disp = ConfusionMatrixDisplay.from_estimator(\n",
    "    mlp_clf,\n",
    "    testing_df[X_cols],\n",
    "    testing_df[y_col],\n",
    "    cmap=plt.cm.Blues,\n",
    "    normalize=\"true\",\n",
    ")\n",
    "disp.ax_.set_title(\"MLP Confusion Matrix\")\n",
    "\n",
    "print(\"MLP Confusion Matrix\")\n",
    "print(disp.confusion_matrix)"
   ]
  },
  {
   "cell_type": "code",
   "execution_count": 13,
   "id": "414d8dd8",
   "metadata": {},
   "outputs": [
    {
     "name": "stdout",
     "output_type": "stream",
     "text": [
      "Iteration 1, loss = 0.53514842\n",
      "Iteration 2, loss = 0.45536497\n",
      "Iteration 3, loss = 0.43413238\n",
      "Iteration 4, loss = 0.42127040\n",
      "Iteration 5, loss = 0.41191944\n",
      "Iteration 6, loss = 0.40513894\n",
      "Iteration 7, loss = 0.39720523\n",
      "Iteration 8, loss = 0.39029513\n",
      "Iteration 9, loss = 0.38364579\n",
      "Iteration 10, loss = 0.37750977\n",
      "Iteration 11, loss = 0.37208525\n",
      "Iteration 12, loss = 0.36731731\n",
      "Iteration 13, loss = 0.36284929\n",
      "Iteration 14, loss = 0.35874239\n",
      "Iteration 15, loss = 0.35495807\n",
      "Iteration 16, loss = 0.35159173\n",
      "Iteration 17, loss = 0.34893355\n",
      "Iteration 18, loss = 0.34573943\n",
      "Iteration 19, loss = 0.34298140\n",
      "Iteration 20, loss = 0.34075428\n",
      "Iteration 21, loss = 0.33866099\n",
      "Iteration 22, loss = 0.33608865\n",
      "Iteration 23, loss = 0.33423255\n",
      "Iteration 24, loss = 0.33255866\n",
      "Iteration 25, loss = 0.33116157\n",
      "Iteration 26, loss = 0.32937315\n",
      "Iteration 27, loss = 0.32735971\n",
      "Iteration 28, loss = 0.32701598\n",
      "Iteration 29, loss = 0.32583173\n",
      "Iteration 30, loss = 0.32456268\n",
      "Iteration 31, loss = 0.32327241\n",
      "Iteration 32, loss = 0.32207882\n",
      "Iteration 33, loss = 0.32148586\n",
      "Iteration 34, loss = 0.32037135\n",
      "Iteration 35, loss = 0.31972319\n",
      "Iteration 36, loss = 0.31862970\n",
      "Iteration 37, loss = 0.31829991\n",
      "Iteration 38, loss = 0.31761202\n",
      "Iteration 39, loss = 0.31781587\n",
      "Iteration 40, loss = 0.31678985\n",
      "Iteration 41, loss = 0.31586964\n",
      "Iteration 42, loss = 0.31572193\n",
      "Iteration 43, loss = 0.31517599\n",
      "Iteration 44, loss = 0.31413973\n",
      "Iteration 45, loss = 0.31400720\n",
      "Iteration 46, loss = 0.31332324\n",
      "Iteration 47, loss = 0.31255584\n",
      "Iteration 48, loss = 0.31284717\n",
      "Iteration 49, loss = 0.31275101\n",
      "Iteration 50, loss = 0.31202469\n",
      "Iteration 51, loss = 0.31167600\n",
      "Iteration 52, loss = 0.31145584\n",
      "Iteration 53, loss = 0.31126743\n",
      "Iteration 54, loss = 0.31146918\n",
      "Iteration 55, loss = 0.31087028\n",
      "Iteration 56, loss = 0.30956700\n",
      "Iteration 57, loss = 0.31060794\n",
      "Iteration 58, loss = 0.31022635\n",
      "Iteration 59, loss = 0.30974378\n",
      "Iteration 60, loss = 0.30926732\n",
      "Iteration 61, loss = 0.30887814\n",
      "Iteration 62, loss = 0.30877034\n",
      "Iteration 63, loss = 0.30823727\n",
      "Iteration 64, loss = 0.30875731\n",
      "Iteration 65, loss = 0.30819378\n",
      "Iteration 66, loss = 0.30808111\n",
      "Iteration 67, loss = 0.30790675\n",
      "Iteration 68, loss = 0.30760882\n",
      "Iteration 69, loss = 0.30750630\n",
      "Iteration 70, loss = 0.30678071\n",
      "Iteration 71, loss = 0.30723510\n",
      "Iteration 72, loss = 0.30711111\n",
      "Iteration 73, loss = 0.30652184\n",
      "Iteration 74, loss = 0.30635423\n",
      "Iteration 75, loss = 0.30675507\n",
      "Iteration 76, loss = 0.30683979\n",
      "Iteration 77, loss = 0.30619225\n",
      "Iteration 78, loss = 0.30595268\n",
      "Iteration 79, loss = 0.30550615\n",
      "Iteration 80, loss = 0.30525588\n",
      "Iteration 81, loss = 0.30517710\n",
      "Iteration 82, loss = 0.30529434\n",
      "Iteration 83, loss = 0.30450322\n",
      "Iteration 84, loss = 0.30529465\n",
      "Iteration 85, loss = 0.30482152\n",
      "Iteration 86, loss = 0.30413067\n",
      "Iteration 87, loss = 0.30510196\n",
      "Iteration 88, loss = 0.30407867\n",
      "Iteration 89, loss = 0.30389682\n",
      "Iteration 90, loss = 0.30380460\n",
      "Iteration 91, loss = 0.30415427\n",
      "Iteration 92, loss = 0.30352841\n",
      "Iteration 93, loss = 0.30383105\n",
      "Iteration 94, loss = 0.30373859\n",
      "Iteration 95, loss = 0.30385580\n",
      "Iteration 96, loss = 0.30359964\n",
      "Iteration 97, loss = 0.30328634\n",
      "Iteration 98, loss = 0.30321323\n",
      "Iteration 99, loss = 0.30286943\n",
      "Iteration 100, loss = 0.30276533\n",
      "Iteration 101, loss = 0.30233632\n",
      "Iteration 102, loss = 0.30264361\n",
      "Iteration 103, loss = 0.30328844\n",
      "Iteration 104, loss = 0.30273919\n",
      "Iteration 105, loss = 0.30184018\n",
      "Iteration 106, loss = 0.30232603\n",
      "Iteration 107, loss = 0.30170790\n",
      "Iteration 108, loss = 0.30145156\n",
      "Iteration 109, loss = 0.30154028\n",
      "Iteration 110, loss = 0.30208101\n",
      "Iteration 111, loss = 0.30193497\n",
      "Iteration 112, loss = 0.30209158\n",
      "Iteration 113, loss = 0.30105010\n",
      "Iteration 114, loss = 0.30089504\n",
      "Iteration 115, loss = 0.30110608\n",
      "Iteration 116, loss = 0.30126601\n",
      "Iteration 117, loss = 0.30087000\n",
      "Iteration 118, loss = 0.30088734\n",
      "Iteration 119, loss = 0.30091188\n",
      "Iteration 120, loss = 0.30049592\n",
      "Iteration 121, loss = 0.30052340\n",
      "Iteration 122, loss = 0.30087879\n",
      "Iteration 123, loss = 0.30035734\n",
      "Iteration 124, loss = 0.30076647\n",
      "Iteration 125, loss = 0.30012545\n",
      "Iteration 126, loss = 0.30032581\n",
      "Iteration 127, loss = 0.29965367\n",
      "Iteration 128, loss = 0.29997829\n",
      "Iteration 129, loss = 0.29960485\n",
      "Iteration 130, loss = 0.29948399\n",
      "Iteration 131, loss = 0.29966367\n",
      "Iteration 132, loss = 0.29931233\n",
      "Iteration 133, loss = 0.29973486\n",
      "Iteration 134, loss = 0.29924897\n",
      "Iteration 135, loss = 0.29911923\n",
      "Iteration 136, loss = 0.29886644\n",
      "Iteration 137, loss = 0.29892864\n",
      "Iteration 138, loss = 0.29898694\n",
      "Iteration 139, loss = 0.29904401\n",
      "Iteration 140, loss = 0.29873635\n",
      "Iteration 141, loss = 0.29910526\n",
      "Iteration 142, loss = 0.29798420\n",
      "Iteration 143, loss = 0.29854381\n",
      "Iteration 144, loss = 0.29824250\n",
      "Iteration 145, loss = 0.29834816\n",
      "Iteration 146, loss = 0.29785013\n",
      "Iteration 147, loss = 0.29798410\n",
      "Iteration 148, loss = 0.29809704\n",
      "Iteration 149, loss = 0.29779972\n",
      "Iteration 150, loss = 0.29790101\n",
      "Iteration 151, loss = 0.29774799\n",
      "Iteration 152, loss = 0.29790728\n",
      "Iteration 153, loss = 0.29740533\n",
      "Iteration 154, loss = 0.29744924\n",
      "Iteration 155, loss = 0.29713843\n",
      "Iteration 156, loss = 0.29727506\n",
      "Iteration 157, loss = 0.29739472\n",
      "Iteration 158, loss = 0.29731235\n",
      "Iteration 159, loss = 0.29711275\n",
      "Iteration 160, loss = 0.29735883\n",
      "Iteration 161, loss = 0.29661562\n",
      "Iteration 162, loss = 0.29719537\n",
      "Iteration 163, loss = 0.29719698\n",
      "Iteration 164, loss = 0.29686687\n",
      "Iteration 165, loss = 0.29723544\n",
      "Iteration 166, loss = 0.29696178\n",
      "Iteration 167, loss = 0.29684847\n",
      "Iteration 168, loss = 0.29659711\n",
      "Iteration 169, loss = 0.29635312\n",
      "Iteration 170, loss = 0.29627486\n",
      "Iteration 171, loss = 0.29667787\n",
      "Iteration 172, loss = 0.29580727\n",
      "Iteration 173, loss = 0.29618852\n",
      "Iteration 174, loss = 0.29610948\n",
      "Iteration 175, loss = 0.29581122\n",
      "Iteration 176, loss = 0.29584219\n",
      "Iteration 177, loss = 0.29600093\n",
      "Iteration 178, loss = 0.29535905\n",
      "Iteration 179, loss = 0.29554976\n",
      "Iteration 180, loss = 0.29553007\n",
      "Iteration 181, loss = 0.29609447\n",
      "Iteration 182, loss = 0.29551345\n",
      "Iteration 183, loss = 0.29594542\n",
      "Iteration 184, loss = 0.29524326\n",
      "Iteration 185, loss = 0.29611918\n",
      "Iteration 186, loss = 0.29517916\n",
      "Iteration 187, loss = 0.29532569\n",
      "Iteration 188, loss = 0.29531149\n",
      "Iteration 189, loss = 0.29509434\n",
      "Iteration 190, loss = 0.29528174\n",
      "Iteration 191, loss = 0.29480824\n",
      "Iteration 192, loss = 0.29509257\n",
      "Iteration 193, loss = 0.29483144\n",
      "Iteration 194, loss = 0.29460740\n",
      "Iteration 195, loss = 0.29443389\n",
      "Iteration 196, loss = 0.29463984\n",
      "Iteration 197, loss = 0.29475412\n",
      "Iteration 198, loss = 0.29511368\n",
      "Iteration 199, loss = 0.29414938\n",
      "Iteration 200, loss = 0.29391930\n",
      "Iteration 201, loss = 0.29421808\n",
      "Iteration 202, loss = 0.29441771\n",
      "Iteration 203, loss = 0.29414549\n",
      "Iteration 204, loss = 0.29380236\n",
      "Iteration 205, loss = 0.29391427\n",
      "Iteration 206, loss = 0.29422070\n",
      "Iteration 207, loss = 0.29409975\n",
      "Iteration 208, loss = 0.29354644\n",
      "Iteration 209, loss = 0.29373565\n",
      "Iteration 210, loss = 0.29393481\n",
      "Iteration 211, loss = 0.29361658\n",
      "Iteration 212, loss = 0.29310089\n",
      "Iteration 213, loss = 0.29339071\n",
      "Iteration 214, loss = 0.29424662\n",
      "Iteration 215, loss = 0.29316921\n",
      "Iteration 216, loss = 0.29357918\n",
      "Iteration 217, loss = 0.29273625\n",
      "Iteration 218, loss = 0.29361967\n",
      "Iteration 219, loss = 0.29315756\n",
      "Iteration 220, loss = 0.29277341\n",
      "Iteration 221, loss = 0.29328526\n",
      "Iteration 222, loss = 0.29333502\n",
      "Iteration 223, loss = 0.29308515\n",
      "Iteration 224, loss = 0.29311517\n",
      "Iteration 225, loss = 0.29292221\n",
      "Iteration 226, loss = 0.29276700\n",
      "Iteration 227, loss = 0.29290663\n",
      "Iteration 228, loss = 0.29249686\n",
      "Iteration 229, loss = 0.29277893\n",
      "Iteration 230, loss = 0.29234292\n",
      "Iteration 231, loss = 0.29212867\n",
      "Iteration 232, loss = 0.29213691\n",
      "Iteration 233, loss = 0.29294467\n",
      "Iteration 234, loss = 0.29181837\n",
      "Iteration 235, loss = 0.29304516\n",
      "Iteration 236, loss = 0.29225799\n",
      "Iteration 237, loss = 0.29251566\n",
      "Iteration 238, loss = 0.29190000\n",
      "Iteration 239, loss = 0.29173397\n",
      "Iteration 240, loss = 0.29166889\n",
      "Iteration 241, loss = 0.29140184\n",
      "Iteration 242, loss = 0.29176784\n",
      "Iteration 243, loss = 0.29132839\n",
      "Iteration 244, loss = 0.29239745\n",
      "Iteration 245, loss = 0.29196575\n",
      "Iteration 246, loss = 0.29135586\n",
      "Iteration 247, loss = 0.29158421\n",
      "Iteration 248, loss = 0.29148208\n",
      "Iteration 249, loss = 0.29230095\n",
      "Iteration 250, loss = 0.29136100\n",
      "Iteration 251, loss = 0.29160300\n",
      "Iteration 252, loss = 0.29164085\n",
      "Training loss did not improve more than tol=0.000100 for 10 consecutive epochs. Stopping.\n",
      "MLP metrics:\n",
      "Accuracy Score: 0.7734895389216376\n",
      "F1 score: 0.7361542498109711\n"
     ]
    }
   ],
   "source": [
    "# Starting with Sklearn MLP\n",
    "# Training model\n",
    "mlp_clf = MLPClassifier(random_state=random_state, max_iter=300, verbose=10)\n",
    "mlp_clf.fit(training_df_scaled_X,training_df[y_col])\n",
    "\n",
    "# Testing model\n",
    "mlp_acc,mlp_f1 = test_model_metrics(mlp_clf,\"MLP\",testing_df_scaled_X,testing_df[y_col])"
   ]
  },
  {
   "cell_type": "code",
   "execution_count": 14,
   "id": "023cdc64",
   "metadata": {},
   "outputs": [
    {
     "name": "stdout",
     "output_type": "stream",
     "text": [
      "MLP Confusion Matrix-Scaled\n",
      "[[0.75548053 0.0012154  0.24330407]\n",
      " [0.38327961 0.0083186  0.60840179]\n",
      " [0.09992607 0.00101338 0.89906055]]\n"
     ]
    },
    {
     "data": {
      "image/png": "[encoded data removed]",
      "text/plain": [
       "<Figure size 432x288 with 2 Axes>"
      ]
     },
     "metadata": {
      "needs_background": "light"
     },
     "output_type": "display_data"
    }
   ],
   "source": []
  },
  {
   "cell_type": "code",
   "execution_count": 10,
   "id": "90f689cb",
   "metadata": {},
   "outputs": [
    {
     "data": {
      "text/plain": [
       "['duration',\n",
       " 'age_limit',\n",
       " 'view_count',\n",
       " 'like_count',\n",
       " 'view_like_ratio',\n",
       " 'is_comments_enabled',\n",
       " 'is_live_content',\n",
       " 'cat_codes',\n",
       " 'neu',\n",
       " 'neg',\n",
       " 'pos',\n",
       " 'compound']"
      ]
     },
     "execution_count": 10,
     "metadata": {},
     "output_type": "execute_result"
    }
   ],
   "source": [
    "X_cols"
   ]
  },
  {
   "cell_type": "code",
   "execution_count": 11,
   "id": "341b6b2e",
   "metadata": {},
   "outputs": [
    {
     "data": {
      "text/plain": [
       "'ld_score_ohe'"
      ]
     },
     "execution_count": 11,
     "metadata": {},
     "output_type": "execute_result"
    }
   ],
   "source": [
    "y_col"
   ]
  },
  {
   "cell_type": "code",
   "execution_count": 12,
   "id": "4d564e87",
   "metadata": {},
   "outputs": [
    {
     "data": {
      "text/plain": [
       "['duration',\n",
       " 'age_limit',\n",
       " 'view_count',\n",
       " 'like_count',\n",
       " 'view_like_ratio',\n",
       " 'is_comments_enabled',\n",
       " 'is_live_content',\n",
       " 'cat_codes',\n",
       " 'neu',\n",
       " 'neg',\n",
       " 'pos',\n",
       " 'compound',\n",
       " 'ld_score_ohe']"
      ]
     },
     "execution_count": 12,
     "metadata": {},
     "output_type": "execute_result"
    }
   ],
   "source": [
    "all_related_cols"
   ]
  },
  {
   "cell_type": "code",
   "execution_count": 215,
   "id": "5011b279",
   "metadata": {},
   "outputs": [],
   "source": [
    "# Create dataframe with all required columns\n",
    "tab_df = training_df[all_related_cols].copy()\n",
    "\n",
    "def remap_target(value):\n",
    "    if value == -1:\n",
    "        return \"Negative\"\n",
    "    elif value == 0:\n",
    "        return \"Neutral\"\n",
    "    elif value == 1:\n",
    "        return \"Positive\"\n",
    "\n",
    "tab_df[\"ld_score_ohe\"] = tab_df[\"ld_score_ohe\"].apply(remap_target)\n",
    "\n",
    "# Create tabular object and dataloaders\n",
    "cat_names = ['age_limit','is_comments_enabled','is_live_content','cat_codes']\n",
    "cont_names = ['duration', 'view_count', 'like_count','view_like_ratio','neu','neg','pos','compound']\n",
    "procs = [Categorify, FillMissing, Normalize]\n",
    "\n",
    "# Creates splits\n",
    "splits = RandomSplitter(valid_pct=0.1)(range_of(tab_df))\n",
    "\n",
    "to = TabularPandas(tab_df, procs=procs,\n",
    "                   cat_names = cat_names,\n",
    "                   cont_names = cont_names,\n",
    "                   y_names=y_col,\n",
    "                   y_block=CategoryBlock,\n",
    "                   splits=splits)\n",
    "\n",
    "dls = to.dataloaders(bs=2048)"
   ]
  },
  {
   "cell_type": "code",
   "execution_count": 216,
   "id": "ea930b6c",
   "metadata": {},
   "outputs": [],
   "source": [
    "# Create weighted f1 score by modifying fastai f1 score\n",
    "# def F1Score(axis=-1, labels=None, pos_label=1, average='weighted', sample_weight=None):\n",
    "#     \"F1 score for single-label classification problems\"\n",
    "#     return skm_to_fastai(skm.f1_score, axis=axis,\n",
    "#                          labels=labels, pos_label=pos_label, average=average, sample_weight=sample_weight)"
   ]
  },
  {
   "cell_type": "code",
   "execution_count": 217,
   "id": "4c735dba",
   "metadata": {},
   "outputs": [],
   "source": [
    "cross_entropy_loss_flat = CrossEntropyLossFlat()\n",
    "f1_score_fai = F1Score()\n",
    "f1_score_multi = F1ScoreMulti(average=\"weighted\")"
   ]
  },
  {
   "cell_type": "code",
   "execution_count": 218,
   "id": "a40ba7f7",
   "metadata": {},
   "outputs": [],
   "source": [
    "# Create tabular learner\n",
    "learn_tab = tabular_learner(dls, layers=[100,200,100], metrics=accuracy,loss_func=cross_entropy_loss_flat)"
   ]
  },
  {
   "cell_type": "code",
   "execution_count": 219,
   "id": "9a7bda29",
   "metadata": {},
   "outputs": [
    {
     "data": {
      "text/html": [
       "\n",
       "<style>\n",
       "    /* Turns off some styling */\n",
       "    progress {\n",
       "        /* gets rid of default border in Firefox and Opera. */\n",
       "        border: none;\n",
       "        /* Needs to be in here for Safari polyfill so background images work as expected. */\n",
       "        background-size: auto;\n",
       "    }\n",
       "    .progress-bar-interrupted, .progress-bar-interrupted::-webkit-progress-bar {\n",
       "        background: #F44336;\n",
       "    }\n",
       "</style>\n"
      ],
      "text/plain": [
       "<IPython.core.display.HTML object>"
      ]
     },
     "metadata": {},
     "output_type": "display_data"
    },
    {
     "data": {
      "text/html": [],
      "text/plain": [
       "<IPython.core.display.HTML object>"
      ]
     },
     "metadata": {},
     "output_type": "display_data"
    },
    {
     "data": {
      "text/plain": [
       "SuggestedLRs(valley=0.0008317637839354575)"
      ]
     },
     "execution_count": 219,
     "metadata": {},
     "output_type": "execute_result"
    },
    {
     "data": {
      "image/png": "[encoded data removed]",
      "text/plain": [
       "<Figure size 432x288 with 1 Axes>"
      ]
     },
     "metadata": {
      "needs_background": "light"
     },
     "output_type": "display_data"
    }
   ],
   "source": [
    "# Fastai has a useful function to estimate the best learning rate to use.\n",
    "learn_tab.lr_find()"
   ]
  },
  {
   "cell_type": "code",
   "execution_count": 220,
   "id": "444fa81e",
   "metadata": {},
   "outputs": [
    {
     "data": {
      "text/html": [
       "\n",
       "<style>\n",
       "    /* Turns off some styling */\n",
       "    progress {\n",
       "        /* gets rid of default border in Firefox and Opera. */\n",
       "        border: none;\n",
       "        /* Needs to be in here for Safari polyfill so background images work as expected. */\n",
       "        background-size: auto;\n",
       "    }\n",
       "    .progress-bar-interrupted, .progress-bar-interrupted::-webkit-progress-bar {\n",
       "        background: #F44336;\n",
       "    }\n",
       "</style>\n"
      ],
      "text/plain": [
       "<IPython.core.display.HTML object>"
      ]
     },
     "metadata": {},
     "output_type": "display_data"
    },
    {
     "data": {
      "text/html": [
       "<table border=\"1\" class=\"dataframe\">\n",
       "  <thead>\n",
       "    <tr style=\"text-align: left;\">\n",
       "      <th>epoch</th>\n",
       "      <th>train_loss</th>\n",
       "      <th>valid_loss</th>\n",
       "      <th>accuracy</th>\n",
       "      <th>time</th>\n",
       "    </tr>\n",
       "  </thead>\n",
       "  <tbody>\n",
       "    <tr>\n",
       "      <td>0</td>\n",
       "      <td>0.537413</td>\n",
       "      <td>0.770312</td>\n",
       "      <td>0.726088</td>\n",
       "      <td>00:05</td>\n",
       "    </tr>\n",
       "    <tr>\n",
       "      <td>1</td>\n",
       "      <td>0.387218</td>\n",
       "      <td>1.062577</td>\n",
       "      <td>0.732909</td>\n",
       "      <td>00:05</td>\n",
       "    </tr>\n",
       "    <tr>\n",
       "      <td>2</td>\n",
       "      <td>0.352577</td>\n",
       "      <td>1.069417</td>\n",
       "      <td>0.718311</td>\n",
       "      <td>00:05</td>\n",
       "    </tr>\n",
       "    <tr>\n",
       "      <td>3</td>\n",
       "      <td>0.318735</td>\n",
       "      <td>1.123301</td>\n",
       "      <td>0.733351</td>\n",
       "      <td>00:05</td>\n",
       "    </tr>\n",
       "    <tr>\n",
       "      <td>4</td>\n",
       "      <td>0.308855</td>\n",
       "      <td>0.992836</td>\n",
       "      <td>0.732296</td>\n",
       "      <td>00:05</td>\n",
       "    </tr>\n",
       "  </tbody>\n",
       "</table>"
      ],
      "text/plain": [
       "<IPython.core.display.HTML object>"
      ]
     },
     "metadata": {},
     "output_type": "display_data"
    }
   ],
   "source": [
    "# Fit the data. We are not fine-tuning here. We are learning from our training data alone.\n",
    "learn_tab.fit_one_cycle(5,1e-3)"
   ]
  },
  {
   "cell_type": "code",
   "execution_count": 221,
   "id": "0bb817b3",
   "metadata": {},
   "outputs": [],
   "source": [
    "tab_test_df = testing_df[X_cols].copy()\n",
    "tab_test_dl = learn_tab.dls.test_dl(tab_test_df,ordered=True)"
   ]
  },
  {
   "cell_type": "code",
   "execution_count": 222,
   "id": "959122ba",
   "metadata": {},
   "outputs": [
    {
     "data": {
      "text/html": [
       "\n",
       "<style>\n",
       "    /* Turns off some styling */\n",
       "    progress {\n",
       "        /* gets rid of default border in Firefox and Opera. */\n",
       "        border: none;\n",
       "        /* Needs to be in here for Safari polyfill so background images work as expected. */\n",
       "        background-size: auto;\n",
       "    }\n",
       "    .progress-bar-interrupted, .progress-bar-interrupted::-webkit-progress-bar {\n",
       "        background: #F44336;\n",
       "    }\n",
       "</style>\n"
      ],
      "text/plain": [
       "<IPython.core.display.HTML object>"
      ]
     },
     "metadata": {},
     "output_type": "display_data"
    },
    {
     "data": {
      "text/html": [],
      "text/plain": [
       "<IPython.core.display.HTML object>"
      ]
     },
     "metadata": {},
     "output_type": "display_data"
    }
   ],
   "source": [
    "preds, _, decoded = learn_tab.get_preds(dl=tab_test_dl, with_decoded=True)"
   ]
  },
  {
   "cell_type": "code",
   "execution_count": 223,
   "id": "9fe1b038",
   "metadata": {},
   "outputs": [
    {
     "data": {
      "text/plain": [
       "tensor([2, 2, 2,  ..., 2, 2, 2])"
      ]
     },
     "execution_count": 223,
     "metadata": {},
     "output_type": "execute_result"
    }
   ],
   "source": [
    "decoded"
   ]
  },
  {
   "cell_type": "code",
   "execution_count": 224,
   "id": "093abcb5",
   "metadata": {},
   "outputs": [
    {
     "data": {
      "text/plain": [
       "tensor([0, 1, 2])"
      ]
     },
     "execution_count": 224,
     "metadata": {},
     "output_type": "execute_result"
    }
   ],
   "source": [
    "decoded.unique()"
   ]
  },
  {
   "cell_type": "code",
   "execution_count": 225,
   "id": "ad7821c6",
   "metadata": {},
   "outputs": [],
   "source": [
    "decoded[decoded == 0] = -1\n",
    "decoded[decoded == 1] = 0\n",
    "decoded[decoded == 2] = 1"
   ]
  },
  {
   "cell_type": "code",
   "execution_count": 226,
   "id": "6f81cdb5",
   "metadata": {},
   "outputs": [
    {
     "data": {
      "text/plain": [
       "tensor([-1,  0,  1])"
      ]
     },
     "execution_count": 226,
     "metadata": {},
     "output_type": "execute_result"
    }
   ],
   "source": [
    "decoded.unique()"
   ]
  },
  {
   "cell_type": "code",
   "execution_count": 227,
   "id": "4040e65a",
   "metadata": {},
   "outputs": [
    {
     "data": {
      "text/plain": [
       "0.6423349568038629"
      ]
     },
     "execution_count": 227,
     "metadata": {},
     "output_type": "execute_result"
    }
   ],
   "source": [
    "f1_score(testing_df[y_col],decoded,average=\"weighted\")"
   ]
  },
  {
   "cell_type": "code",
   "execution_count": null,
   "id": "b2328190",
   "metadata": {},
   "outputs": [],
   "source": []
  }
 ],
 "metadata": {
  "kernelspec": {
   "display_name": "Python 3 (ipykernel)",
   "language": "python",
   "name": "python3"
  },
  "language_info": {
   "codemirror_mode": {
    "name": "ipython",
    "version": 3
   },
   "file_extension": ".py",
   "mimetype": "text/x-python",
   "name": "python",
   "nbconvert_exporter": "python",
   "pygments_lexer": "ipython3",
   "version": "3.10.4"
  }
 },
 "nbformat": 4,
 "nbformat_minor": 5
}
